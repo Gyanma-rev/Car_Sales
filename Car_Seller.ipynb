{
  "cells": [
    {
      "cell_type": "markdown",
      "metadata": {
        "id": "view-in-github",
        "colab_type": "text"
      },
      "source": [
        "<a href=\"https://colab.research.google.com/github/Gyanma-rev/Car_Sales/blob/main/Car_Seller.ipynb\" target=\"_parent\"><img src=\"https://colab.research.google.com/assets/colab-badge.svg\" alt=\"Open In Colab\"/></a>"
      ]
    },
    {
      "cell_type": "markdown",
      "metadata": {
        "id": "JAZKT6BnzvrU"
      },
      "source": [
        "# Preprocessing"
      ]
    },
    {
      "cell_type": "markdown",
      "metadata": {
        "id": "bN2L9rMu3ZJf"
      },
      "source": [
        "\n",
        "Import libraries and dataset"
      ]
    },
    {
      "cell_type": "code",
      "execution_count": null,
      "metadata": {
        "id": "vRlS0IiN09KC"
      },
      "outputs": [],
      "source": [
        "#  Import libraries and dataset\n",
        "import pandas as pd\n",
        "import numpy as np\n",
        "\n",
        "import re\n",
        "from datetime import datetime"
      ]
    },
    {
      "cell_type": "code",
      "source": [
        "data = pd.read_csv(\"/content/drive/MyDrive/ICon_Car_Seller/Datasets/original/corrected_original_transaction_list.csv\", sep=',')"
      ],
      "metadata": {
        "id": "I2styX2qeSsg"
      },
      "execution_count": null,
      "outputs": []
    },
    {
      "cell_type": "markdown",
      "metadata": {
        "id": "-GLzSGJe3d1L"
      },
      "source": [
        "Check for missing data"
      ]
    },
    {
      "cell_type": "code",
      "execution_count": null,
      "metadata": {
        "collapsed": true,
        "id": "fIeTfOLO30MX"
      },
      "outputs": [],
      "source": [
        "data.isnull().sum().value_counts()"
      ]
    },
    {
      "cell_type": "code",
      "execution_count": null,
      "metadata": {
        "collapsed": true,
        "id": "iup7PV1FnbFd"
      },
      "outputs": [],
      "source": [
        "data.isnull().sum(axis=1).value_counts()"
      ]
    },
    {
      "cell_type": "markdown",
      "metadata": {
        "id": "RvFtjrVjpJnh"
      },
      "source": [
        "Drop instances with missing values"
      ]
    },
    {
      "cell_type": "code",
      "execution_count": null,
      "metadata": {
        "id": "tXU98UM3pOHa"
      },
      "outputs": [],
      "source": [
        "data = data.dropna()"
      ]
    },
    {
      "cell_type": "markdown",
      "metadata": {
        "id": "HcaUjrkD7mvL"
      },
      "source": [
        "Remove duplicates"
      ]
    },
    {
      "cell_type": "code",
      "execution_count": null,
      "metadata": {
        "id": "vvX2UEik7mWC",
        "colab": {
          "base_uri": "https://localhost:8080/"
        },
        "outputId": "d893ed7d-e9f5-4909-c1fe-67219f5d1f99"
      },
      "outputs": [
        {
          "output_type": "stream",
          "name": "stdout",
          "text": [
            "Number of duplicates: 0\n"
          ]
        }
      ],
      "source": [
        "num_duplicates = data.duplicated().sum()\n",
        "print(\"Number of duplicates:\", num_duplicates)"
      ]
    },
    {
      "cell_type": "code",
      "execution_count": null,
      "metadata": {
        "id": "AFAyql4621eB"
      },
      "outputs": [],
      "source": [
        "data = data.drop_duplicates()"
      ]
    },
    {
      "cell_type": "markdown",
      "metadata": {
        "id": "fvNAIUrxpU-V"
      },
      "source": [
        "Corrections of features values"
      ]
    },
    {
      "cell_type": "code",
      "execution_count": null,
      "metadata": {
        "id": "Ep45D7zkpUwc"
      },
      "outputs": [],
      "source": [
        "data['color'] = data['color'].replace('—', 'unknown')\n",
        "data['interior'] = data['interior'].replace('—', 'unknown')\n",
        "\n",
        "data['make'] = data['make'].astype(str).apply(lambda x: x.lower().replace(' ', '-').replace(',', '').replace('\"', '').replace('\\'', ''))\n",
        "data['model'] = data['model'].astype(str).apply(lambda x: x.lower().replace(' ', '-').replace(',', '').replace('\"', '').replace('\\'', ''))\n",
        "data['trim'] = data['trim'].astype(str).apply(lambda x: x.lower().replace(' ', '-').replace(',', '').replace('\"', '').replace('\\'', ''))\n",
        "data['body'] = data['body'].astype(str).apply(lambda x: x.lower().replace(' ', '-').replace(',', '').replace('\"', '').replace('\\'', ''))\n",
        "data['seller'] = data['seller'].astype(str).apply(lambda x: x.lower().replace(' ', '-').replace(',', '').replace('\"', '').replace('\\'', ''))\n"
      ]
    },
    {
      "cell_type": "markdown",
      "metadata": {
        "id": "DSXrxMxsf0Hc"
      },
      "source": [
        "Add Transaction_ID column"
      ]
    },
    {
      "cell_type": "code",
      "execution_count": null,
      "metadata": {
        "id": "u51kaqEQfz24"
      },
      "outputs": [],
      "source": [
        "    # Generate a randomized sequence of IDs equal to the number of rows in the DataFrame\n",
        "id_values = np.random.choice(range(100000, 999999 + 1), size=len(data), replace=False)\n",
        "\n",
        "    # Assign the randomized IDs to a new 'ID' column in the DataFrame\n",
        "data['transaction_ID'] = id_values"
      ]
    },
    {
      "cell_type": "markdown",
      "metadata": {
        "id": "T6DHcsA_i2L2"
      },
      "source": [
        "Change date format into integer"
      ]
    },
    {
      "cell_type": "code",
      "execution_count": null,
      "metadata": {
        "id": "Xg6CeM02jAzx"
      },
      "outputs": [],
      "source": [
        "def convert_to_integer(date_str):\n",
        "    # Define the regex pattern to capture the month, day, and year\n",
        "    pattern = r'^[A-Za-z]{3} ([A-Za-z]{3}) (\\d{2}) (\\d{4})'\n",
        "\n",
        "    # Attempt to match the pattern in the date string\n",
        "    match = re.search(pattern, date_str)\n",
        "    if match:\n",
        "        # Extract the month, day, and year\n",
        "        month_str, day, year = match.groups()\n",
        "\n",
        "        # Map month abbreviations to numbers\n",
        "        month_mapping = {\n",
        "            'Jan': 1, 'Feb': 2, 'Mar': 3, 'Apr': 4,\n",
        "            'May': 5, 'Jun': 6, 'Jul': 7, 'Aug': 8,\n",
        "            'Sep': 9, 'Oct': 10, 'Nov': 11, 'Dec': 12\n",
        "        }\n",
        "\n",
        "        # Convert month string to number\n",
        "        month = month_mapping.get(month_str, 0)\n",
        "\n",
        "        # Calculate the difference and convert to seconds\n",
        "\n",
        "        delta = datetime(int(year), month, int(day)) - datetime(1970, 1, 1)\n",
        "        return delta.days\n",
        "\n",
        "    # Return None if the format doesn't match\n",
        "    return None\n",
        "\n",
        "def calculate_delta(date_str):\n",
        "\n",
        "    delta = datetime(int(date_str), 1, 1) - datetime(1970, 1, 1)\n",
        "    return delta.days\n",
        "\n",
        "data['saledate'] = data['saledate'].apply(convert_to_integer)\n",
        "data['year'] = data['year'].apply(calculate_delta)\n",
        "\n"
      ]
    },
    {
      "cell_type": "markdown",
      "metadata": {
        "id": "BsXd2IKQhJxV"
      },
      "source": [
        "Obtain statistical data\n",
        "\n",
        "\n"
      ]
    },
    {
      "cell_type": "code",
      "execution_count": null,
      "metadata": {
        "id": "HyZ1Qa7_hNnM",
        "colab": {
          "base_uri": "https://localhost:8080/",
          "height": 1000
        },
        "outputId": "21afd6b7-e7ab-4407-f24a-7afed0e07667"
      },
      "outputs": [
        {
          "output_type": "stream",
          "name": "stdout",
          "text": [
            "The number of rows in the DataFrame is: 472358\n",
            "The number of columns in the DataFrame is: 17\n",
            "Feature: year\n",
            "year\n",
            "15706    87474\n",
            "15340    87382\n",
            "16071    69714\n",
            "14975    41384\n",
            "13879    27011\n",
            "Name: count, dtype: int64\n",
            "Number of unique values: 26\n",
            "\n",
            "Feature: make\n",
            "make\n",
            "ford         81014\n",
            "chevrolet    54150\n",
            "nissan       44043\n",
            "toyota       35313\n",
            "dodge        27183\n",
            "Name: count, dtype: int64\n",
            "Number of unique values: 53\n",
            "\n",
            "Feature: model\n",
            "model\n",
            "altima    16346\n",
            "fusion    12117\n",
            "f-150     11950\n",
            "camry     10986\n",
            "escape    10656\n",
            "Name: count, dtype: int64\n",
            "Number of unique values: 764\n",
            "\n",
            "Feature: trim\n",
            "trim\n",
            "base       48782\n",
            "se         39635\n",
            "lx         18707\n",
            "limited    15498\n",
            "lt         15273\n",
            "Name: count, dtype: int64\n",
            "Number of unique values: 1481\n",
            "\n",
            "Feature: body\n",
            "body\n",
            "sedan        211330\n",
            "suv          120968\n",
            "hatchback     23821\n",
            "minivan       21938\n",
            "coupe         15960\n",
            "Name: count, dtype: int64\n",
            "Number of unique values: 44\n",
            "\n",
            "Feature: transmission\n",
            "transmission\n",
            "automatic    455996\n",
            "manual        16362\n",
            "Name: count, dtype: int64\n",
            "Number of unique values: 2\n",
            "\n",
            "Feature: vin\n",
            "vin\n",
            "5n1ar1nn2bc632869    4\n",
            "wp0ca2988xu629622    4\n",
            "wddgf56x78f009940    4\n",
            "1ftfw1cv5afb30053    4\n",
            "5uxfe43579l274932    4\n",
            "Name: count, dtype: int64\n",
            "Number of unique values: 465801\n",
            "\n",
            "Feature: state\n",
            "state\n",
            "fl    75249\n",
            "ca    66217\n",
            "tx    41658\n",
            "ga    30941\n",
            "pa    24117\n",
            "Name: count, dtype: int64\n",
            "Number of unique values: 34\n",
            "\n",
            "Feature: condition\n",
            "condition\n",
            "1.9    36652\n",
            "3.5    23209\n",
            "3.7    22680\n",
            "4.4    22093\n",
            "4.3    21593\n",
            "Name: count, dtype: int64\n",
            "Number of unique values: 41\n",
            "\n",
            "Feature: odometer\n",
            "odometer\n",
            "1.0         979\n",
            "999999.0     60\n",
            "10.0         24\n",
            "21587.0      19\n",
            "33995.0      17\n",
            "Name: count, dtype: int64\n",
            "Number of unique values: 160429\n",
            "\n",
            "Feature: color\n",
            "color\n",
            "black     93249\n",
            "white     89239\n",
            "silver    71258\n",
            "gray      70646\n",
            "blue      43065\n",
            "Name: count, dtype: int64\n",
            "Number of unique values: 20\n",
            "\n",
            "Feature: interior\n",
            "interior\n",
            "black      209888\n",
            "gray       152625\n",
            "beige       50469\n",
            "tan         37723\n",
            "unknown      9865\n",
            "Name: count, dtype: int64\n",
            "Number of unique values: 17\n",
            "\n",
            "Feature: seller\n",
            "seller\n",
            "nissan-infiniti-lt              25127\n",
            "ford-motor-credit-companyllc    17756\n",
            "the-hertz-corporation           16286\n",
            "santander-consumer              14245\n",
            "avis-corporation                11471\n",
            "Name: count, dtype: int64\n",
            "Number of unique values: 11911\n",
            "\n",
            "Feature: mmr\n",
            "mmr\n",
            "11650    1537\n",
            "12500    1528\n",
            "11600    1518\n",
            "11850    1511\n",
            "11300    1509\n",
            "Name: count, dtype: int64\n",
            "Number of unique values: 1099\n",
            "\n",
            "Feature: sellingprice\n",
            "sellingprice\n",
            "12000    3878\n",
            "11000    3840\n",
            "13000    3807\n",
            "10000    3544\n",
            "11500    3444\n",
            "Name: count, dtype: int64\n",
            "Number of unique values: 1806\n",
            "\n",
            "Feature: saledate\n",
            "saledate\n",
            "16477    14357\n",
            "16589    12654\n",
            "16491    12347\n",
            "16470    12276\n",
            "16484    12180\n",
            "Name: count, dtype: int64\n",
            "Number of unique values: 172\n",
            "\n",
            "Feature: transaction_ID\n",
            "transaction_ID\n",
            "176390    1\n",
            "960419    1\n",
            "672228    1\n",
            "423943    1\n",
            "715373    1\n",
            "Name: count, dtype: int64\n",
            "Number of unique values: 472358\n",
            "\n"
          ]
        },
        {
          "output_type": "execute_result",
          "data": {
            "text/plain": [
              "                year      condition       odometer            mmr  \\\n",
              "count  472358.000000  472358.000000  472358.000000  472358.000000   \n",
              "mean    14687.047405       3.426577   66698.386357   13836.991487   \n",
              "std      1396.087092       0.943685   51939.479228    9531.910071   \n",
              "min      7305.000000       1.000000       1.000000      25.000000   \n",
              "25%     13879.000000       2.700000   28134.000000    7425.000000   \n",
              "50%     15340.000000       3.600000   51081.000000   12300.000000   \n",
              "75%     15706.000000       4.200000   96588.000000   18300.000000   \n",
              "max     16436.000000       5.000000  999999.000000  182000.000000   \n",
              "\n",
              "        sellingprice       saledate  transaction_ID  \n",
              "count  472358.000000  472358.000000   472358.000000  \n",
              "mean    13690.340606   16501.216171   549967.662339  \n",
              "std      9612.755824      59.106080   259837.864126  \n",
              "min         1.000000   16071.000000   100000.000000  \n",
              "25%      7200.000000   16457.000000   324875.250000  \n",
              "50%     12200.000000   16483.000000   550191.000000  \n",
              "75%     18200.000000   16576.000000   774990.250000  \n",
              "max    230000.000000   16637.000000   999995.000000  "
            ],
            "text/html": [
              "\n",
              "  <div id=\"df-fbca784c-a09b-4b43-a8ac-9a758dbe9b69\" class=\"colab-df-container\">\n",
              "    <div>\n",
              "<style scoped>\n",
              "    .dataframe tbody tr th:only-of-type {\n",
              "        vertical-align: middle;\n",
              "    }\n",
              "\n",
              "    .dataframe tbody tr th {\n",
              "        vertical-align: top;\n",
              "    }\n",
              "\n",
              "    .dataframe thead th {\n",
              "        text-align: right;\n",
              "    }\n",
              "</style>\n",
              "<table border=\"1\" class=\"dataframe\">\n",
              "  <thead>\n",
              "    <tr style=\"text-align: right;\">\n",
              "      <th></th>\n",
              "      <th>year</th>\n",
              "      <th>condition</th>\n",
              "      <th>odometer</th>\n",
              "      <th>mmr</th>\n",
              "      <th>sellingprice</th>\n",
              "      <th>saledate</th>\n",
              "      <th>transaction_ID</th>\n",
              "    </tr>\n",
              "  </thead>\n",
              "  <tbody>\n",
              "    <tr>\n",
              "      <th>count</th>\n",
              "      <td>472358.000000</td>\n",
              "      <td>472358.000000</td>\n",
              "      <td>472358.000000</td>\n",
              "      <td>472358.000000</td>\n",
              "      <td>472358.000000</td>\n",
              "      <td>472358.000000</td>\n",
              "      <td>472358.000000</td>\n",
              "    </tr>\n",
              "    <tr>\n",
              "      <th>mean</th>\n",
              "      <td>14687.047405</td>\n",
              "      <td>3.426577</td>\n",
              "      <td>66698.386357</td>\n",
              "      <td>13836.991487</td>\n",
              "      <td>13690.340606</td>\n",
              "      <td>16501.216171</td>\n",
              "      <td>549967.662339</td>\n",
              "    </tr>\n",
              "    <tr>\n",
              "      <th>std</th>\n",
              "      <td>1396.087092</td>\n",
              "      <td>0.943685</td>\n",
              "      <td>51939.479228</td>\n",
              "      <td>9531.910071</td>\n",
              "      <td>9612.755824</td>\n",
              "      <td>59.106080</td>\n",
              "      <td>259837.864126</td>\n",
              "    </tr>\n",
              "    <tr>\n",
              "      <th>min</th>\n",
              "      <td>7305.000000</td>\n",
              "      <td>1.000000</td>\n",
              "      <td>1.000000</td>\n",
              "      <td>25.000000</td>\n",
              "      <td>1.000000</td>\n",
              "      <td>16071.000000</td>\n",
              "      <td>100000.000000</td>\n",
              "    </tr>\n",
              "    <tr>\n",
              "      <th>25%</th>\n",
              "      <td>13879.000000</td>\n",
              "      <td>2.700000</td>\n",
              "      <td>28134.000000</td>\n",
              "      <td>7425.000000</td>\n",
              "      <td>7200.000000</td>\n",
              "      <td>16457.000000</td>\n",
              "      <td>324875.250000</td>\n",
              "    </tr>\n",
              "    <tr>\n",
              "      <th>50%</th>\n",
              "      <td>15340.000000</td>\n",
              "      <td>3.600000</td>\n",
              "      <td>51081.000000</td>\n",
              "      <td>12300.000000</td>\n",
              "      <td>12200.000000</td>\n",
              "      <td>16483.000000</td>\n",
              "      <td>550191.000000</td>\n",
              "    </tr>\n",
              "    <tr>\n",
              "      <th>75%</th>\n",
              "      <td>15706.000000</td>\n",
              "      <td>4.200000</td>\n",
              "      <td>96588.000000</td>\n",
              "      <td>18300.000000</td>\n",
              "      <td>18200.000000</td>\n",
              "      <td>16576.000000</td>\n",
              "      <td>774990.250000</td>\n",
              "    </tr>\n",
              "    <tr>\n",
              "      <th>max</th>\n",
              "      <td>16436.000000</td>\n",
              "      <td>5.000000</td>\n",
              "      <td>999999.000000</td>\n",
              "      <td>182000.000000</td>\n",
              "      <td>230000.000000</td>\n",
              "      <td>16637.000000</td>\n",
              "      <td>999995.000000</td>\n",
              "    </tr>\n",
              "  </tbody>\n",
              "</table>\n",
              "</div>\n",
              "    <div class=\"colab-df-buttons\">\n",
              "\n",
              "  <div class=\"colab-df-container\">\n",
              "    <button class=\"colab-df-convert\" onclick=\"convertToInteractive('df-fbca784c-a09b-4b43-a8ac-9a758dbe9b69')\"\n",
              "            title=\"Convert this dataframe to an interactive table.\"\n",
              "            style=\"display:none;\">\n",
              "\n",
              "  <svg xmlns=\"http://www.w3.org/2000/svg\" height=\"24px\" viewBox=\"0 -960 960 960\">\n",
              "    <path d=\"M120-120v-720h720v720H120Zm60-500h600v-160H180v160Zm220 220h160v-160H400v160Zm0 220h160v-160H400v160ZM180-400h160v-160H180v160Zm440 0h160v-160H620v160ZM180-180h160v-160H180v160Zm440 0h160v-160H620v160Z\"/>\n",
              "  </svg>\n",
              "    </button>\n",
              "\n",
              "  <style>\n",
              "    .colab-df-container {\n",
              "      display:flex;\n",
              "      gap: 12px;\n",
              "    }\n",
              "\n",
              "    .colab-df-convert {\n",
              "      background-color: #E8F0FE;\n",
              "      border: none;\n",
              "      border-radius: 50%;\n",
              "      cursor: pointer;\n",
              "      display: none;\n",
              "      fill: #1967D2;\n",
              "      height: 32px;\n",
              "      padding: 0 0 0 0;\n",
              "      width: 32px;\n",
              "    }\n",
              "\n",
              "    .colab-df-convert:hover {\n",
              "      background-color: #E2EBFA;\n",
              "      box-shadow: 0px 1px 2px rgba(60, 64, 67, 0.3), 0px 1px 3px 1px rgba(60, 64, 67, 0.15);\n",
              "      fill: #174EA6;\n",
              "    }\n",
              "\n",
              "    .colab-df-buttons div {\n",
              "      margin-bottom: 4px;\n",
              "    }\n",
              "\n",
              "    [theme=dark] .colab-df-convert {\n",
              "      background-color: #3B4455;\n",
              "      fill: #D2E3FC;\n",
              "    }\n",
              "\n",
              "    [theme=dark] .colab-df-convert:hover {\n",
              "      background-color: #434B5C;\n",
              "      box-shadow: 0px 1px 3px 1px rgba(0, 0, 0, 0.15);\n",
              "      filter: drop-shadow(0px 1px 2px rgba(0, 0, 0, 0.3));\n",
              "      fill: #FFFFFF;\n",
              "    }\n",
              "  </style>\n",
              "\n",
              "    <script>\n",
              "      const buttonEl =\n",
              "        document.querySelector('#df-fbca784c-a09b-4b43-a8ac-9a758dbe9b69 button.colab-df-convert');\n",
              "      buttonEl.style.display =\n",
              "        google.colab.kernel.accessAllowed ? 'block' : 'none';\n",
              "\n",
              "      async function convertToInteractive(key) {\n",
              "        const element = document.querySelector('#df-fbca784c-a09b-4b43-a8ac-9a758dbe9b69');\n",
              "        const dataTable =\n",
              "          await google.colab.kernel.invokeFunction('convertToInteractive',\n",
              "                                                    [key], {});\n",
              "        if (!dataTable) return;\n",
              "\n",
              "        const docLinkHtml = 'Like what you see? Visit the ' +\n",
              "          '<a target=\"_blank\" href=https://colab.research.google.com/notebooks/data_table.ipynb>data table notebook</a>'\n",
              "          + ' to learn more about interactive tables.';\n",
              "        element.innerHTML = '';\n",
              "        dataTable['output_type'] = 'display_data';\n",
              "        await google.colab.output.renderOutput(dataTable, element);\n",
              "        const docLink = document.createElement('div');\n",
              "        docLink.innerHTML = docLinkHtml;\n",
              "        element.appendChild(docLink);\n",
              "      }\n",
              "    </script>\n",
              "  </div>\n",
              "\n",
              "\n",
              "<div id=\"df-5f51607d-6f7c-4abd-aa1a-146821c4d31a\">\n",
              "  <button class=\"colab-df-quickchart\" onclick=\"quickchart('df-5f51607d-6f7c-4abd-aa1a-146821c4d31a')\"\n",
              "            title=\"Suggest charts\"\n",
              "            style=\"display:none;\">\n",
              "\n",
              "<svg xmlns=\"http://www.w3.org/2000/svg\" height=\"24px\"viewBox=\"0 0 24 24\"\n",
              "     width=\"24px\">\n",
              "    <g>\n",
              "        <path d=\"M19 3H5c-1.1 0-2 .9-2 2v14c0 1.1.9 2 2 2h14c1.1 0 2-.9 2-2V5c0-1.1-.9-2-2-2zM9 17H7v-7h2v7zm4 0h-2V7h2v10zm4 0h-2v-4h2v4z\"/>\n",
              "    </g>\n",
              "</svg>\n",
              "  </button>\n",
              "\n",
              "<style>\n",
              "  .colab-df-quickchart {\n",
              "      --bg-color: #E8F0FE;\n",
              "      --fill-color: #1967D2;\n",
              "      --hover-bg-color: #E2EBFA;\n",
              "      --hover-fill-color: #174EA6;\n",
              "      --disabled-fill-color: #AAA;\n",
              "      --disabled-bg-color: #DDD;\n",
              "  }\n",
              "\n",
              "  [theme=dark] .colab-df-quickchart {\n",
              "      --bg-color: #3B4455;\n",
              "      --fill-color: #D2E3FC;\n",
              "      --hover-bg-color: #434B5C;\n",
              "      --hover-fill-color: #FFFFFF;\n",
              "      --disabled-bg-color: #3B4455;\n",
              "      --disabled-fill-color: #666;\n",
              "  }\n",
              "\n",
              "  .colab-df-quickchart {\n",
              "    background-color: var(--bg-color);\n",
              "    border: none;\n",
              "    border-radius: 50%;\n",
              "    cursor: pointer;\n",
              "    display: none;\n",
              "    fill: var(--fill-color);\n",
              "    height: 32px;\n",
              "    padding: 0;\n",
              "    width: 32px;\n",
              "  }\n",
              "\n",
              "  .colab-df-quickchart:hover {\n",
              "    background-color: var(--hover-bg-color);\n",
              "    box-shadow: 0 1px 2px rgba(60, 64, 67, 0.3), 0 1px 3px 1px rgba(60, 64, 67, 0.15);\n",
              "    fill: var(--button-hover-fill-color);\n",
              "  }\n",
              "\n",
              "  .colab-df-quickchart-complete:disabled,\n",
              "  .colab-df-quickchart-complete:disabled:hover {\n",
              "    background-color: var(--disabled-bg-color);\n",
              "    fill: var(--disabled-fill-color);\n",
              "    box-shadow: none;\n",
              "  }\n",
              "\n",
              "  .colab-df-spinner {\n",
              "    border: 2px solid var(--fill-color);\n",
              "    border-color: transparent;\n",
              "    border-bottom-color: var(--fill-color);\n",
              "    animation:\n",
              "      spin 1s steps(1) infinite;\n",
              "  }\n",
              "\n",
              "  @keyframes spin {\n",
              "    0% {\n",
              "      border-color: transparent;\n",
              "      border-bottom-color: var(--fill-color);\n",
              "      border-left-color: var(--fill-color);\n",
              "    }\n",
              "    20% {\n",
              "      border-color: transparent;\n",
              "      border-left-color: var(--fill-color);\n",
              "      border-top-color: var(--fill-color);\n",
              "    }\n",
              "    30% {\n",
              "      border-color: transparent;\n",
              "      border-left-color: var(--fill-color);\n",
              "      border-top-color: var(--fill-color);\n",
              "      border-right-color: var(--fill-color);\n",
              "    }\n",
              "    40% {\n",
              "      border-color: transparent;\n",
              "      border-right-color: var(--fill-color);\n",
              "      border-top-color: var(--fill-color);\n",
              "    }\n",
              "    60% {\n",
              "      border-color: transparent;\n",
              "      border-right-color: var(--fill-color);\n",
              "    }\n",
              "    80% {\n",
              "      border-color: transparent;\n",
              "      border-right-color: var(--fill-color);\n",
              "      border-bottom-color: var(--fill-color);\n",
              "    }\n",
              "    90% {\n",
              "      border-color: transparent;\n",
              "      border-bottom-color: var(--fill-color);\n",
              "    }\n",
              "  }\n",
              "</style>\n",
              "\n",
              "  <script>\n",
              "    async function quickchart(key) {\n",
              "      const quickchartButtonEl =\n",
              "        document.querySelector('#' + key + ' button');\n",
              "      quickchartButtonEl.disabled = true;  // To prevent multiple clicks.\n",
              "      quickchartButtonEl.classList.add('colab-df-spinner');\n",
              "      try {\n",
              "        const charts = await google.colab.kernel.invokeFunction(\n",
              "            'suggestCharts', [key], {});\n",
              "      } catch (error) {\n",
              "        console.error('Error during call to suggestCharts:', error);\n",
              "      }\n",
              "      quickchartButtonEl.classList.remove('colab-df-spinner');\n",
              "      quickchartButtonEl.classList.add('colab-df-quickchart-complete');\n",
              "    }\n",
              "    (() => {\n",
              "      let quickchartButtonEl =\n",
              "        document.querySelector('#df-5f51607d-6f7c-4abd-aa1a-146821c4d31a button');\n",
              "      quickchartButtonEl.style.display =\n",
              "        google.colab.kernel.accessAllowed ? 'block' : 'none';\n",
              "    })();\n",
              "  </script>\n",
              "</div>\n",
              "\n",
              "    </div>\n",
              "  </div>\n"
            ],
            "application/vnd.google.colaboratory.intrinsic+json": {
              "type": "dataframe",
              "summary": "{\n  \"name\": \"data\",\n  \"rows\": 8,\n  \"fields\": [\n    {\n      \"column\": \"year\",\n      \"properties\": {\n        \"dtype\": \"number\",\n        \"std\": 162806.55456672664,\n        \"min\": 1396.087092172785,\n        \"max\": 472358.0,\n        \"num_unique_values\": 8,\n        \"samples\": [\n          14687.047404722689,\n          15340.0,\n          472358.0\n        ],\n        \"semantic_type\": \"\",\n        \"description\": \"\"\n      }\n    },\n    {\n      \"column\": \"condition\",\n      \"properties\": {\n        \"dtype\": \"number\",\n        \"std\": 167002.71837257972,\n        \"min\": 0.9436845172614121,\n        \"max\": 472358.0,\n        \"num_unique_values\": 8,\n        \"samples\": [\n          3.4265770877173676,\n          3.6,\n          472358.0\n        ],\n        \"semantic_type\": \"\",\n        \"description\": \"\"\n      }\n    },\n    {\n      \"column\": \"odometer\",\n      \"properties\": {\n        \"dtype\": \"number\",\n        \"std\": 349039.33829523565,\n        \"min\": 1.0,\n        \"max\": 999999.0,\n        \"num_unique_values\": 8,\n        \"samples\": [\n          66698.38635738147,\n          51081.0,\n          472358.0\n        ],\n        \"semantic_type\": \"\",\n        \"description\": \"\"\n      }\n    },\n    {\n      \"column\": \"mmr\",\n      \"properties\": {\n        \"dtype\": \"number\",\n        \"std\": 166058.35439749013,\n        \"min\": 25.0,\n        \"max\": 472358.0,\n        \"num_unique_values\": 8,\n        \"samples\": [\n          13836.991487388803,\n          12300.0,\n          472358.0\n        ],\n        \"semantic_type\": \"\",\n        \"description\": \"\"\n      }\n    },\n    {\n      \"column\": \"sellingprice\",\n      \"properties\": {\n        \"dtype\": \"number\",\n        \"std\": 170718.106071522,\n        \"min\": 1.0,\n        \"max\": 472358.0,\n        \"num_unique_values\": 8,\n        \"samples\": [\n          13690.340606065738,\n          12200.0,\n          472358.0\n        ],\n        \"semantic_type\": \"\",\n        \"description\": \"\"\n      }\n    },\n    {\n      \"column\": \"saledate\",\n      \"properties\": {\n        \"dtype\": \"number\",\n        \"std\": 162116.04418854517,\n        \"min\": 59.10607996383468,\n        \"max\": 472358.0,\n        \"num_unique_values\": 8,\n        \"samples\": [\n          16501.216170785716,\n          16483.0,\n          472358.0\n        ],\n        \"semantic_type\": \"\",\n        \"description\": \"\"\n      }\n    },\n    {\n      \"column\": \"transaction_ID\",\n      \"properties\": {\n        \"dtype\": \"number\",\n        \"std\": 287752.72745965054,\n        \"min\": 100000.0,\n        \"max\": 999995.0,\n        \"num_unique_values\": 8,\n        \"samples\": [\n          549967.6623387346,\n          550191.0,\n          472358.0\n        ],\n        \"semantic_type\": \"\",\n        \"description\": \"\"\n      }\n    }\n  ]\n}"
            }
          },
          "metadata": {},
          "execution_count": 18
        }
      ],
      "source": [
        "## Count the number of rows and columns\n",
        "\n",
        "print(f\"The number of rows in the DataFrame is: {len(data)}\")\n",
        "print(f\"The number of columns in the DataFrame is: {len(data.columns)}\")\n",
        "\n",
        "\n",
        "## Get Mode\n",
        "\n",
        "for column in data.columns:\n",
        "    mode = data[column].value_counts().head(5)\n",
        "    unique_count = data[column].nunique()\n",
        "    print(\"Feature:\", column)\n",
        "    print(mode)\n",
        "    print(\"Number of unique values:\", unique_count)\n",
        "    print()\n",
        "\n",
        "\n",
        "\n",
        "\n",
        "## Get Statistical measures\n",
        "\n",
        "data.describe()"
      ]
    },
    {
      "cell_type": "markdown",
      "metadata": {
        "id": "70Il0h2r6FWY"
      },
      "source": [
        "Print the dataframe in a cvs\n"
      ]
    },
    {
      "cell_type": "code",
      "execution_count": null,
      "metadata": {
        "id": "mnu4TUQj6H2H"
      },
      "outputs": [],
      "source": [
        "data.to_csv(\"/content/drive/MyDrive/ICon_Car_Seller/Datasets/transaction_list.csv\", index=False)"
      ]
    },
    {
      "cell_type": "markdown",
      "metadata": {
        "id": "zvL1n-auVFOo"
      },
      "source": [
        "# Building the Knowledge Base"
      ]
    },
    {
      "cell_type": "markdown",
      "metadata": {
        "id": "SBH6IoEji3DZ"
      },
      "source": [
        "Import Dataset and libraries"
      ]
    },
    {
      "cell_type": "code",
      "execution_count": null,
      "metadata": {
        "colab": {
          "base_uri": "https://localhost:8080/"
        },
        "id": "z1cjRiJ5BIwF",
        "outputId": "5b1a57bc-0a82-4845-ebfd-a41207edf873"
      },
      "outputs": [
        {
          "name": "stdout",
          "output_type": "stream",
          "text": [
            "Requirement already satisfied: pyswip in /usr/local/lib/python3.10/dist-packages (0.3.2)\n",
            "Reading package lists... Done\n",
            "Building dependency tree... Done\n",
            "Reading state information... Done\n",
            "swi-prolog is already the newest version (8.4.2+dfsg-2ubuntu1).\n",
            "0 upgraded, 0 newly installed, 0 to remove and 49 not upgraded.\n"
          ]
        }
      ],
      "source": [
        "import pandas as pd\n",
        "import numpy as np\n",
        "\n",
        "!pip install pyswip\n",
        "!apt-get install -y swi-prolog\n",
        "\n",
        "from pyswip import Prolog\n",
        "\n",
        "data = pd.read_csv(\"/content/drive/MyDrive/ICon_Car_Seller/Datasets/transaction_list.csv\", sep=',')\n"
      ]
    },
    {
      "cell_type": "markdown",
      "metadata": {
        "id": "qDdE2mCMMR-y"
      },
      "source": [
        "Ulterior data preprocessing to better accomodate for prolog language"
      ]
    },
    {
      "cell_type": "code",
      "execution_count": null,
      "metadata": {
        "id": "lPrscolbMUwN"
      },
      "outputs": [],
      "source": [
        "##Add most_recent column\n",
        "\n",
        "sorted_df = data[['transaction_ID', 'vin', 'saledate']].sort_values(by=['vin', 'saledate'], ascending=[True, False])\n",
        "sorted_df['most_recent'] = ~sorted_df.duplicated(subset=['vin'], keep='first')\n",
        "sorted_df['most_recent'] = sorted_df['most_recent'].map({True: 'true', False: 'false'})\n",
        "data = pd.merge(data, sorted_df[['transaction_ID', 'most_recent']], on='transaction_ID', how='inner')\n",
        "data.to_csv(\"/content/drive/MyDrive/ICon_Car_Seller/Datasets/transaction_list_with_most_recent.csv\", index=False)"
      ]
    },
    {
      "cell_type": "code",
      "execution_count": null,
      "metadata": {
        "id": "9gffOIJPvq5_"
      },
      "outputs": [],
      "source": [
        "## Add apices to values\n",
        "\n",
        "data['vin'] = data['vin'].apply(lambda x: f\"'{x}'\")\n",
        "data['model'] = data['model'].apply(lambda x: f\"'{x}'\")\n",
        "data['trim'] = data['trim'].apply(lambda x: f\"'{x}'\")\n",
        "data['make'] = data['make'].apply(lambda x: f\"'{x}'\")\n",
        "data['body'] = data['body'].apply(lambda x: f\"'{x}'\")\n",
        "data['transmission'] = data['transmission'].apply(lambda x: f\"'{x}'\")\n",
        "data['state'] = data['state'].apply(lambda x: f\"'{x}'\")\n",
        "data['color'] = data['color'].apply(lambda x: f\"'{x}'\")\n",
        "data['interior'] = data['interior'].apply(lambda x: f\"'{x}'\")\n",
        "data['seller'] = data['seller'].apply(lambda x: f\"'{x}'\")\n",
        "data['most_recent'] = data['most_recent'].apply(lambda x: f\"'{x}'\")\n",
        "data.to_csv(\"/content/drive/MyDrive/ICon_Car_Seller/Datasets/transaction_list_for_KB.csv\", index=False)"
      ]
    },
    {
      "cell_type": "markdown",
      "metadata": {
        "id": "LRKGkQWyctHI"
      },
      "source": [
        "Facts Description"
      ]
    },
    {
      "cell_type": "code",
      "execution_count": null,
      "metadata": {
        "id": "0kh29CkFFsgj"
      },
      "outputs": [],
      "source": [
        "import pandas as pd\n",
        "\n",
        "    ##car(Vin, Make, Model, Year, Body, Transmission)\n",
        "    ##car_sold(Auction, Vin)\n",
        "    ##auction(Auction, Seller, State, Price, Date, Condition, Odometer, Color, Interior, MMR, Recent)\n",
        "\n",
        "datasets = [data[['vin', 'make', 'model', 'year', 'body', 'transmission']].drop_duplicates(),\n",
        "             data[['transaction_ID', 'vin']].drop_duplicates(),\n",
        "            data[['transaction_ID', 'seller', 'state', 'sellingprice', 'saledate', 'condition', 'odometer', 'color', 'interior', 'mmr', 'most_recent']].drop_duplicates()]\n",
        "\n",
        "fact_names = ['car',\n",
        "              'car_sold',\n",
        "              'auction']\n",
        "\n",
        "with open('/content/drive/MyDrive/ICon_Car_Seller/Prolog/facts.pl', 'w') as file:\n",
        "\n",
        "    for df, fact_name in zip(datasets, fact_names):\n",
        "        for _, row in df.iterrows():\n",
        "\n",
        "            fact = f\"{fact_name}({', '.join(map(str, row.values))}).\\n\"\n",
        "\n",
        "\n",
        "            file.write(fact)\n",
        "\n"
      ]
    },
    {
      "cell_type": "markdown",
      "metadata": {
        "id": "EAt56GY3f9I_"
      },
      "source": [
        "Rules"
      ]
    },
    {
      "cell_type": "code",
      "execution_count": null,
      "metadata": {
        "id": "BuF9Y0SgvIwy"
      },
      "outputs": [],
      "source": [
        "with open('/content/drive/MyDrive/ICon_Car_Seller/Prolog/rules.pl', 'w') as file:\n",
        "\n",
        "    ##car(Vin, Make, Model, Year, Body, Transmission)\n",
        "    ##car_sold(Auction, Vin)\n",
        "    ##auction(Auction, Seller, State, Price, Date, Condition, Odometer, Color, Interior, MMR, Recent)\n",
        "\n",
        "    file.write('was_sold_repeatedly(Car):- car_sold(Auction, Car), car_sold(Auction2, Car), Auction \\\\== Auction2.\\n')\n",
        "    file.write('was_sold_within_one_year(Car):- car_sold(Auction, Car), car(Vin, _, _, ProdYear, _, _), auction(Auction, _, _, _, AuctYear, _ , _, _, _, _, _), Delta is AuctYear - ProdYear, Delta < 365.\\n')\n",
        "\n",
        "    file.write('most_recent_sale(Car, Auction) :- car_sold(Auction, Car), auction(Auction, _, _, _, _, _, _, _, _, _, Recent), Recent == true.\\n')\n",
        "    file.write('current_car_color(Car, Color):- most_recent_sale(Car, Auction), auction(Auction, _, _, _, _, _, _, Color, _, _, _).\\n')\n",
        "    file.write('current_car_interior(Car, Interior):- most_recent_sale(Car, Auction), auction(Auction, _, _, _, _, _, _, _, Interior, _, _).\\n')\n",
        "    file.write('current_car_mmr(Car, MMR):- most_recent_sale(Car, Auction), auction(Auction, _, _, _, _, _, _, _, _, MMR, _).\\n')\n",
        "    file.write('current_car_selling_price(Car, Price):- most_recent_sale(Car, Auction), auction(Auction, _, _, Price, _, _, _, _, _, _, _).\\n')\n",
        "    file.write('current_car_condition(Car, Condition):- most_recent_sale(Car, Auction), auction(Auction, _, _, _, _, Condition, _, _, _, _, _).\\n')\n",
        "    file.write('current_car_odometer(Car, Odometer):- most_recent_sale(Car, Auction), auction(Auction, _, _, _, _, _, Odometer, _, _, _, _).\\n')\n",
        "    file.write('last_seller(Car, Seller):- most_recent_sale(Car, Auction), auction(Auction, Seller, _, _, _, _, _, _, _, _, _).\\n')\n",
        "    file.write('does_color_match_interior(Car):- current_car_color(Car, Color), current_car_interior(Car, Interior), Color == Interior.\\n')\n",
        "    file.write('was_sold_above_mmr(Car):- current_car_selling_price(Car, SP), current_car_mmr(Car, MP), SP > MP.\\n')\n",
        "    file.write('was_sold_below_mmr(Car):- current_car_selling_price(Car, SP), current_car_mmr(Car, MP), SP < MP.\\n')\n",
        "    file.write('was_sold_at_mmr(Car):- current_car_selling_price(Car, SP), current_car_mmr(Car, MP), SP == MP.\\n')\n",
        "    file.write('is_same_color(Car1, Car2):- Car1 \\== Car2, current_car_color(Car1, Color), current_car_color(Car2, Color).\\n')\n",
        "    file.write('is_same_interior(Car1, Car2):- Car1 \\== Car2, current_car_interior(Car1, Interior), current_car_interior(Car2, Interior).\\n')\n",
        "    file.write('is_same_market_price(Car1, Car2):- Car1 \\== Car2, current_car_mmr(Car1, MMR), current_car_mmr(Car2, MMR).\\n')\n",
        "    file.write('is_same_selling_price(Car1, Car2):- Car1 \\== Car2, current_car_selling_price(Car1, Price), current_car_selling_price(Car2, Price).\\n')\n",
        "    file.write('is_same_condition(Car1, Car2):- Car1 \\== Car2, current_car_condition(Car1, Condition), current_car_condition(Car2, Condition).\\n')\n",
        "    file.write('is_same_odometer(Car1, Car2):- Car1 \\== Car2, current_car_odometer(Car1, Odometer), current_car_odometer(Car2, Odometer).\\n')\n",
        "\n",
        "    file.write('is_same_make(Car1, Car2) :- Car1 \\== Car2, car(Car1, Make, _, _, _, _), car(Car2, Make, _, _, _, _).\\n')\n",
        "\n",
        "    file.write('is_same_production_year(Car1, Car2):- Car1 \\== Car2, car(Car1, _, _, Year, _, _), car(Car2, _, _, Year, _, _).\\n')\n",
        "    file.write('is_same_body(Car1, Car2):- Car1 \\== Car2, car(Car1, _, _, _, Body, _), car(Car2, _, _, _, Body, _).\\n')\n",
        "    file.write('is_same_transmission(Car1, Car2):- Car1 \\== Car2, car(Car1, _, _, _, _, Transmission), car(Car2, _, _, _, _, Transmission).\\n')\n",
        "\n",
        "    file.write('high_volume_seller(Seller):- findall(Auction, auction(Auction, Seller, _, _, _, _, _, _, _, _, _), List), length(List, N), N > 200.\\n')\n",
        "    file.write('highly_traded_make(Make):- findall(Auction, (car_sold(Auction, Car), car(Car, Make, _, _, _, _)), List), length(List, N), N > 1000.')\n"
      ]
    },
    {
      "cell_type": "markdown",
      "metadata": {
        "id": "y8ycSnyoFihE"
      },
      "source": [
        "Example queries"
      ]
    },
    {
      "cell_type": "code",
      "execution_count": null,
      "metadata": {
        "id": "Fdh-DTxOTGx9"
      },
      "outputs": [],
      "source": [
        "with open('/content/drive/MyDrive/ICon_Car_Seller/Prolog/query_inputs.txt', 'w') as file:\n",
        "    file.write('wba6b2c57ed129731,')\n",
        "    file.write('wp0ca2988xu629622,')\n",
        "    file.write('2c4rdgeg8er151143,')\n",
        "    file.write('wbayp9c59ed169280,')\n",
        "    file.write('5npeb4acxdh744455')"
      ]
    },
    {
      "cell_type": "code",
      "execution_count": null,
      "metadata": {
        "id": "rgZETfM0gK-C"
      },
      "outputs": [],
      "source": [
        "from pyswip import Prolog\n",
        "prolog = Prolog()\n",
        "\n",
        "prolog.consult('/content/drive/MyDrive/ICon_Car_Seller/Prolog/rules.pl')\n",
        "prolog.consult('/content/drive/MyDrive/ICon_Car_Seller/Prolog/facts.pl')"
      ]
    },
    {
      "cell_type": "code",
      "execution_count": null,
      "metadata": {
        "id": "0LOz6psCFlLa"
      },
      "outputs": [],
      "source": [
        "input_file = open('/content/drive/MyDrive/ICon_Car_Seller/Prolog/query_inputs.txt', \"r\")\n",
        "\n",
        "cars_queried = input_file.read().split(\",\")\n",
        "\n",
        "input_file.close\n",
        "\n",
        "with open('/content/drive/MyDrive/ICon_Car_Seller/Prolog/query_outputs.txt', \"w\") as file:\n",
        "\n",
        "    for car in cars_queried:\n",
        "\n",
        "        file.write(f\"Car: {car}\\n\")\n",
        "        file.write(f\"\\n\")\n",
        "\n",
        "        ##Was sold repeatedly\n",
        "        if list(prolog.query(f\"was_sold_repeatedly('{car}')\")):\n",
        "            file.write(f\"{car} was sold repeatedly\\n\")\n",
        "        else:\n",
        "            file.write(f\"{car} was not sold repeatedly\\n\")\n",
        "\n",
        "        ##Was sold within one year\n",
        "        file.write(f\"\\n\")\n",
        "        if list(prolog.query(f\"was_sold_within_one_year('{car}')\")):\n",
        "            file.write(f\"{car} was sold within one year\\n\")\n",
        "        else:\n",
        "            file.write(f\"{car} was not sold within one year\\n\")\n",
        "\n",
        "        ##Was sold above MMR\n",
        "        file.write(f\"\\n\")\n",
        "        if list(prolog.query(f\"was_sold_above_mmr('{car}')\")):\n",
        "            file.write(f\"{car} was sold above its MMR\\n\")\n",
        "        else:\n",
        "            if list(prolog.query(f\"was_sold_below_mmr('{car}')\")):\n",
        "                file.write(f\"{car} was sold below its MMR\\n\")\n",
        "            else:\n",
        "                if list(prolog.query(f\"was_sold_at_mmr('{car}')\")):\n",
        "                    file.write(f\"{car} was sold at its MMR\\n\")\n",
        "                else:\n",
        "                    file.write(f\"Couldn't find selling info about {car}\\n\")\n",
        "\n",
        "\n",
        "        ##Most recent sale\n",
        "        file.write(f\"\\n\")\n",
        "        if list(prolog.query(f\"most_recent_sale('{car}', Auction)\")):\n",
        "            recent_sale_result = list(prolog.query(f\"most_recent_sale('{car}', Auction)\"))\n",
        "            recent_sale = str(recent_sale_result[0]['Auction'])\n",
        "            file.write(f\"{car}\\'s most recent sale code is:\\n\")\n",
        "            file.write(recent_sale)\n",
        "            file.write(f\"\\n\")\n",
        "        else:\n",
        "            file.write(f\"Couldn't find {car}\\'s most recent sale code.\\n\")\n",
        "\n",
        "        if list(prolog.query(f\"last_seller('{car}', Seller)\")):\n",
        "            seller_result = list(prolog.query(f\"last_seller('{car}', Seller)\"))\n",
        "            seller = str(seller_result[0]['Seller'])\n",
        "            file.write(f\"{car}\\'s most recent seller is:\\n\")\n",
        "            file.write(seller)\n",
        "            file.write(f\"\\n\")\n",
        "            if list(prolog.query(f\"high_volume_seller('{seller}')\")):\n",
        "               file.write(f\"{seller} is a high volume seller.\\n\")\n",
        "            else:\n",
        "               file.write(f\"{seller} is not a high volume seller.\\n\")\n",
        "        else:\n",
        "             file.write(f\"Couldn't find {car}\\'s most recent seller.\\n\")\n",
        "\n",
        "\n",
        "\n",
        "\n",
        "        ##its make is highly traded\n",
        "        file.write(f\"\\n\")\n",
        "        if list(prolog.query(f\"car('{car}', Make, _, _, _, _)\")):\n",
        "            result = list(prolog.query(f\"car('{car}', Make, _, _, _, _)\"))\n",
        "            make = str(result[0]['Make'])\n",
        "            file.write(f\"{car}\\'s make is:\\n\")\n",
        "            file.write(make)\n",
        "            file.write(f\"\\n\")\n",
        "            if list(prolog.query(f\"highly_traded_make('{make}')\")):\n",
        "              file.write(f\"{make} is a highly traded make.\\n\")\n",
        "            else:\n",
        "              file.write(f\"{make} is not a highly traded make.\\n\")\n",
        "        else:\n",
        "            file.write(f\"Couldn't find {car}\\'s make.\\n\")\n",
        "\n",
        "        ##Current car color\n",
        "        file.write(f\"\\n\")\n",
        "        if list(prolog.query(f\"current_car_color('{car}', Color)\")):\n",
        "            result = list(prolog.query(f\"current_car_color('{car}', Color)\"))\n",
        "            color = str(result[0]['Color'])\n",
        "            file.write(f\"{car}\\'s current color is:\\n\")\n",
        "            file.write(color)\n",
        "            file.write(f\"\\n\")\n",
        "        else:\n",
        "            file.write(f\"Couldn't find {car}\\'s most recent color.\\n\")\n",
        "\n",
        "        ##Current car interior\n",
        "        file.write(f\"\\n\")\n",
        "        if list(prolog.query(f\"current_car_interior('{car}', Color)\")):\n",
        "            result = list(prolog.query(f\"current_car_interior('{car}', Color)\"))\n",
        "            color = str(result[0]['Color'])\n",
        "            file.write(f\"{car}\\'s current interior color is:\\n\")\n",
        "            file.write(color)\n",
        "            file.write(f\"\\n\")\n",
        "        else:\n",
        "            file.write(f\"Couldn't find {car}\\'s most recent interior color .\\n\")\n",
        "\n",
        "\n",
        "        ##Does color match interior\n",
        "        file.write(f\"\\n\")\n",
        "        if list(prolog.query(f\"does_color_match_interior('{car}')\")):\n",
        "            file.write(f\"{car}\\'s color matches its interior color.\\n\")\n",
        "        else:\n",
        "            file.write(f\"{car}\\'s color doesn't match its interior color.\\n\")\n",
        "\n",
        "\n",
        "        ##Current car MMR\n",
        "        file.write(f\"\\n\")\n",
        "        if list(prolog.query(f\"current_car_mmr('{car}', MMR)\")):\n",
        "            result = list(prolog.query(f\"current_car_mmr('{car}', MMR)\"))\n",
        "            mmr = str(result[0]['MMR'])\n",
        "            file.write(f\"{car}\\'s current MMR is:\\n\")\n",
        "            file.write(mmr)\n",
        "        else:\n",
        "            file.write(f\"Couldn't find {car}\\'s current MMR.\\n\")\n",
        "\n",
        "\n",
        "        ##Current car selling price\n",
        "        file.write(f\"\\n\")\n",
        "        if list(prolog.query(f\"current_car_selling_price('{car}', Price)\")):\n",
        "            result = list(prolog.query(f\"current_car_selling_price('{car}', Price)\"))\n",
        "            price = str(result[0]['Price'])\n",
        "            file.write(f\"{car}\\'s current selling price is:\\n\")\n",
        "            file.write(price)\n",
        "            file.write(f\"\\n\")\n",
        "        else:\n",
        "            file.write(f\"Couldn't find {car}\\'s current selling price.\\n\")\n",
        "\n",
        "\n",
        "        ##Current car condition\n",
        "        file.write(f\"\\n\")\n",
        "        if list(prolog.query(f\"current_car_condition('{car}', Condition)\")):\n",
        "            result = list(prolog.query(f\"current_car_condition('{car}', Condition)\"))\n",
        "            condition = str(result[0]['Condition'])\n",
        "            file.write(f\"{car}\\'s current condition is:\\n\")\n",
        "            file.write(condition)\n",
        "            file.write(f\"\\n\")\n",
        "        else:\n",
        "            file.write(f\"Couldn't find {car}\\'s current condition.\\n\")\n",
        "\n",
        "        ##Current car odometer\n",
        "        file.write(f\"\\n\")\n",
        "        if list(prolog.query(f\"current_car_odometer('{car}', Odometer)\")):\n",
        "            result = list(prolog.query(f\"current_car_odometer('{car}', Odometer)\"))\n",
        "            odometer = str(result[0]['Odometer'])\n",
        "            file.write(f\"{car}\\'s current odometer is:\\n\")\n",
        "            file.write(odometer)\n",
        "            file.write(f\"\\n\")\n",
        "        else:\n",
        "            file.write(f\"Couldn't find {car}\\'s current odometer.\\n\")\n",
        "\n",
        "        ##Comparisons\n",
        "        file.write(f\"\\n\")\n",
        "        for new_car in cars_queried:\n",
        "            if car != new_car:\n",
        "\n",
        "                ##same make\n",
        "                file.write(f\"\\n\")\n",
        "                if list(prolog.query(f\"is_same_make('{car}', '{new_car}')\")):\n",
        "                    file.write(f\"{car} is the same make as {new_car}\\n\")\n",
        "                else:\n",
        "                    file.write(f\"{car} is not the same make as {new_car}\\n\")\n",
        "\n",
        "                ##same color\n",
        "                file.write(f\"\\n\")\n",
        "                if list(prolog.query(f\"is_same_color('{car}', '{new_car}')\")):\n",
        "                    file.write(f\"{car} is the same color as {new_car}\\n\")\n",
        "                else:\n",
        "                    file.write(f\"{car} is not the same color as {new_car}\\n\")\n",
        "\n",
        "                ##same interior\n",
        "                file.write(f\"\\n\")\n",
        "                if list(prolog.query(f\"is_same_interior('{car}', '{new_car}')\")):\n",
        "                    file.write(f\"{car} is the same interior color as {new_car}\\n\")\n",
        "                else:\n",
        "                    file.write(f\"{car} is not the same interior color as {new_car}\\n\")\n",
        "\n",
        "                ##same market price\n",
        "                file.write(f\"\\n\")\n",
        "                if list(prolog.query(f\"is_same_market_price('{car}', '{new_car}')\")):\n",
        "                    file.write(f\"{car} is the same market price as {new_car}\\n\")\n",
        "                else:\n",
        "                    file.write(f\"{car} is not the same market price as {new_car}\\n\")\n",
        "\n",
        "\n",
        "                ##same selling price\n",
        "                file.write(f\"\\n\")\n",
        "                if list(prolog.query(f\"is_same_selling_price('{car}', '{new_car}')\")):\n",
        "                    file.write(f\"{car} is the same selling price as {new_car}\\n\")\n",
        "                else:\n",
        "                    file.write(f\"{car} is not the same selling price as {new_car}\\n\")\n",
        "\n",
        "\n",
        "                ##same condition\n",
        "                file.write(f\"\\n\")\n",
        "                if list(prolog.query(f\"is_same_condition('{car}', '{new_car}')\")):\n",
        "                    file.write(f\"{car} is the same condition as {new_car}\\n\")\n",
        "                else:\n",
        "                    file.write(f\"{car} is not the same condition as {new_car}\\n\")\n",
        "\n",
        "\n",
        "                ##same odometer\n",
        "                file.write(f\"\\n\")\n",
        "                if list(prolog.query(f\"is_same_odometer('{car}', '{new_car}')\")):\n",
        "                    file.write(f\"{car} is the same odometer as {new_car}\\n\")\n",
        "                else:\n",
        "                    file.write(f\"{car} is not the same odometer as {new_car}\\n\")\n",
        "\n",
        "\n",
        "                ##same production year\n",
        "                file.write(f\"\\n\")\n",
        "                if list(prolog.query(f\"is_same_production_year('{car}', '{new_car}')\")):\n",
        "                    file.write(f\"{car} is the same production year as {new_car}\\n\")\n",
        "                else:\n",
        "                    file.write(f\"{car} is not the same production year as {new_car}\\n\")\n",
        "\n",
        "\n",
        "                ##same body\n",
        "                file.write(f\"\\n\")\n",
        "                if list(prolog.query(f\"is_same_body('{car}', '{new_car}')\")):\n",
        "                    file.write(f\"{car} is the same body as {new_car}\\n\")\n",
        "                else:\n",
        "                    file.write(f\"{car} is not the same body as {new_car}\\n\")\n",
        "\n",
        "\n",
        "                ##same transmission\n",
        "                file.write(f\"\\n\")\n",
        "                if list(prolog.query(f\"is_same_transmission('{car}', '{new_car}')\")):\n",
        "                    file.write(f\"{car} is the same transmission as {new_car}\\n\")\n",
        "                else:\n",
        "                    file.write(f\"{car} is not the same transmission as {new_car}\\n\")\n",
        "                file.write(f\"\\n\")\n",
        "\n",
        "\n",
        "        file.write(f\"\\n\")\n",
        "        file.write(f\"\\n\")\n",
        "        file.write(f\"\\n\")\n",
        "        file.write(f\"\\n\")\n"
      ]
    },
    {
      "cell_type": "markdown",
      "metadata": {
        "id": "Iy7abdTmvCSi"
      },
      "source": [
        "# Machine Learning"
      ]
    },
    {
      "cell_type": "markdown",
      "metadata": {
        "id": "2VNF5Ffc0LIW"
      },
      "source": [
        "Creating the \"car\" dataset with the data available for each car from the last registered sale"
      ]
    },
    {
      "cell_type": "code",
      "execution_count": 8,
      "metadata": {
        "id": "vc64939U0Xkn"
      },
      "outputs": [],
      "source": [
        "import pandas as pd\n",
        "\n",
        "\n",
        "data = pd.read_csv(\"/content/drive/MyDrive/ICon_Car_Seller/Datasets/transaction_list_with_most_recent.csv\", sep=',')\n",
        "\n",
        "data = data[data['most_recent'] == True]\n",
        "\n",
        "data = data[['make', 'model', 'year', 'trim' , 'body', 'transmission', 'seller', 'sellingprice', 'condition', 'odometer', 'color', 'interior', 'mmr']]\n",
        "\n",
        "data.to_csv(\"/content/drive/MyDrive/ICon_Car_Seller/Datasets/car_dataset.csv\", index=False)"
      ]
    },
    {
      "cell_type": "markdown",
      "metadata": {
        "id": "7mFzfI1d58_V"
      },
      "source": [
        "#### K-Means"
      ]
    },
    {
      "cell_type": "markdown",
      "metadata": {
        "id": "mvJtsO9on0x5"
      },
      "source": [
        "Elbow Method Application"
      ]
    },
    {
      "cell_type": "code",
      "execution_count": 2,
      "metadata": {
        "colab": {
          "base_uri": "https://localhost:8080/"
        },
        "id": "gy-ETl7xB6mj",
        "outputId": "30c8cdbe-663b-40c7-c0b9-d61759a1d0cc"
      },
      "outputs": [
        {
          "output_type": "stream",
          "name": "stdout",
          "text": [
            "Requirement already satisfied: kmodes in /usr/local/lib/python3.10/dist-packages (0.12.2)\n",
            "Requirement already satisfied: numpy>=1.10.4 in /usr/local/lib/python3.10/dist-packages (from kmodes) (1.26.4)\n",
            "Requirement already satisfied: scikit-learn>=0.22.0 in /usr/local/lib/python3.10/dist-packages (from kmodes) (1.5.2)\n",
            "Requirement already satisfied: scipy>=0.13.3 in /usr/local/lib/python3.10/dist-packages (from kmodes) (1.13.1)\n",
            "Requirement already satisfied: joblib>=0.11 in /usr/local/lib/python3.10/dist-packages (from kmodes) (1.4.2)\n",
            "Requirement already satisfied: threadpoolctl>=3.1.0 in /usr/local/lib/python3.10/dist-packages (from scikit-learn>=0.22.0->kmodes) (3.5.0)\n"
          ]
        }
      ],
      "source": [
        "pip install kmodes"
      ]
    },
    {
      "cell_type": "code",
      "execution_count": null,
      "metadata": {
        "id": "oDKp8DNJ6HLk"
      },
      "outputs": [],
      "source": [
        "import numpy as np\n",
        "import matplotlib.pyplot as plt\n",
        "from kmodes.kmodes import KModes\n",
        "\n",
        "\n",
        "def calculate_elbow (seed):\n",
        "\n",
        "    # Range of k values to test\n",
        "    k_values = range(1, 8)\n",
        "\n",
        "    # List to hold the cost values for each k\n",
        "    cost_values = []\n",
        "\n",
        "    # Calculate K-Modes for each k and store the cost\n",
        "    for k in k_values:\n",
        "        kmodes = KModes(n_clusters=k, init='Cao', n_init=5, random_state=0)\n",
        "        kmodes.fit(data)\n",
        "        cost_values.append(kmodes.cost_)\n",
        "\n",
        "    # Calculate and print the slope for each step\n",
        "    print(\"Number of Clusters (k) | Cost | Slope | Absolute Reduction | Percentage Reduction\")\n",
        "    for i in range(1, len(cost_values)):\n",
        "        slope = cost_values[i] - cost_values[i - 1]\n",
        "        absolute_reduction = abs(slope)\n",
        "        percentage_reduction = (absolute_reduction / cost_values[i - 1]) * 100\n",
        "\n",
        "        print(f\"{k_values[i]:>18} | {cost_values[i]:>5} | {slope:>6.2f} |\"\n",
        "              f\" {absolute_reduction:>17.2f} | {percentage_reduction:>19.2f}%\")\n",
        "    # Plot the results\n",
        "    plt.figure(figsize=(8, 5))\n",
        "    plt.plot(k_values, cost_values, 'bo-')\n",
        "    plt.xlabel('Number of Clusters (k)')\n",
        "    plt.ylabel('Cost (Total Dissimilarity)')\n",
        "    plt.title('Elbow Method for Optimal k with K-Modes')\n",
        "    plt.xticks(k_values)\n",
        "    plt.show()\n",
        "\n",
        "\n",
        "calculate_elbow (data)\n",
        "plt.savefig(\"/content/drive/MyDrive/ICon_Car_Seller/K-Means/elbow_method_k_modes.png\", format=\"png\", dpi=300)  # Save the plot\n",
        "\n"
      ]
    }
  ],
  "metadata": {
    "colab": {
      "provenance": [],
      "collapsed_sections": [
        "JAZKT6BnzvrU",
        "zvL1n-auVFOo"
      ],
      "mount_file_id": "19CBayE9nWEWgbGOaAJ9slbu54X69B82u",
      "authorship_tag": "ABX9TyO6aPmExV7FuP+Y3ACrdz3z",
      "include_colab_link": true
    },
    "kernelspec": {
      "display_name": "Python 3",
      "name": "python3"
    },
    "language_info": {
      "name": "python"
    }
  },
  "nbformat": 4,
  "nbformat_minor": 0
}