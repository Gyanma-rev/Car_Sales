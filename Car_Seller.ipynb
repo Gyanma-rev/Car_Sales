{
  "cells": [
    {
      "cell_type": "markdown",
      "metadata": {
        "id": "view-in-github",
        "colab_type": "text"
      },
      "source": [
        "<a href=\"https://colab.research.google.com/github/Gyanma-rev/Car_Sales/blob/main/Car_Seller.ipynb\" target=\"_parent\"><img src=\"https://colab.research.google.com/assets/colab-badge.svg\" alt=\"Open In Colab\"/></a>"
      ]
    },
    {
      "cell_type": "markdown",
      "metadata": {
        "id": "JAZKT6BnzvrU"
      },
      "source": [
        "# Preprocessing"
      ]
    },
    {
      "cell_type": "markdown",
      "metadata": {
        "id": "bN2L9rMu3ZJf"
      },
      "source": [
        "\n",
        "Import libraries and dataset"
      ]
    },
    {
      "cell_type": "code",
      "execution_count": null,
      "metadata": {
        "id": "vRlS0IiN09KC"
      },
      "outputs": [],
      "source": [
        "#  Import libraries and dataset\n",
        "import pandas as pd\n",
        "import numpy as np\n",
        "\n",
        "import re\n",
        "from datetime import datetime"
      ]
    },
    {
      "cell_type": "code",
      "source": [
        "data = pd.read_csv(\"/content/drive/MyDrive/ICon_Car_Seller/Datasets/original/corrected_original_transaction_list.csv\", sep=',')"
      ],
      "metadata": {
        "id": "I2styX2qeSsg"
      },
      "execution_count": null,
      "outputs": []
    },
    {
      "cell_type": "markdown",
      "metadata": {
        "id": "-GLzSGJe3d1L"
      },
      "source": [
        "Check for missing data"
      ]
    },
    {
      "cell_type": "code",
      "execution_count": null,
      "metadata": {
        "collapsed": true,
        "id": "fIeTfOLO30MX"
      },
      "outputs": [],
      "source": [
        "data.isnull().sum().value_counts()"
      ]
    },
    {
      "cell_type": "code",
      "execution_count": null,
      "metadata": {
        "collapsed": true,
        "id": "iup7PV1FnbFd"
      },
      "outputs": [],
      "source": [
        "data.isnull().sum(axis=1).value_counts()"
      ]
    },
    {
      "cell_type": "markdown",
      "metadata": {
        "id": "RvFtjrVjpJnh"
      },
      "source": [
        "Drop instances with missing values"
      ]
    },
    {
      "cell_type": "code",
      "execution_count": null,
      "metadata": {
        "id": "tXU98UM3pOHa"
      },
      "outputs": [],
      "source": [
        "data = data.dropna()"
      ]
    },
    {
      "cell_type": "markdown",
      "metadata": {
        "id": "HcaUjrkD7mvL"
      },
      "source": [
        "Remove duplicates"
      ]
    },
    {
      "cell_type": "code",
      "execution_count": null,
      "metadata": {
        "id": "vvX2UEik7mWC",
        "colab": {
          "base_uri": "https://localhost:8080/"
        },
        "outputId": "d893ed7d-e9f5-4909-c1fe-67219f5d1f99"
      },
      "outputs": [
        {
          "output_type": "stream",
          "name": "stdout",
          "text": [
            "Number of duplicates: 0\n"
          ]
        }
      ],
      "source": [
        "num_duplicates = data.duplicated().sum()\n",
        "print(\"Number of duplicates:\", num_duplicates)"
      ]
    },
    {
      "cell_type": "code",
      "execution_count": null,
      "metadata": {
        "id": "AFAyql4621eB"
      },
      "outputs": [],
      "source": [
        "data = data.drop_duplicates()"
      ]
    },
    {
      "cell_type": "markdown",
      "metadata": {
        "id": "fvNAIUrxpU-V"
      },
      "source": [
        "Corrections of features values"
      ]
    },
    {
      "cell_type": "code",
      "execution_count": null,
      "metadata": {
        "id": "Ep45D7zkpUwc"
      },
      "outputs": [],
      "source": [
        "data['color'] = data['color'].replace('—', 'unknown')\n",
        "data['interior'] = data['interior'].replace('—', 'unknown')\n",
        "\n",
        "data['make'] = data['make'].astype(str).apply(lambda x: x.lower().replace(' ', '-').replace(',', '').replace('\"', '').replace('\\'', ''))\n",
        "data['model'] = data['model'].astype(str).apply(lambda x: x.lower().replace(' ', '-').replace(',', '').replace('\"', '').replace('\\'', ''))\n",
        "data['trim'] = data['trim'].astype(str).apply(lambda x: x.lower().replace(' ', '-').replace(',', '').replace('\"', '').replace('\\'', ''))\n",
        "data['body'] = data['body'].astype(str).apply(lambda x: x.lower().replace(' ', '-').replace(',', '').replace('\"', '').replace('\\'', ''))\n",
        "data['seller'] = data['seller'].astype(str).apply(lambda x: x.lower().replace(' ', '-').replace(',', '').replace('\"', '').replace('\\'', ''))\n"
      ]
    },
    {
      "cell_type": "markdown",
      "metadata": {
        "id": "DSXrxMxsf0Hc"
      },
      "source": [
        "Add Transaction_ID column"
      ]
    },
    {
      "cell_type": "code",
      "execution_count": null,
      "metadata": {
        "id": "u51kaqEQfz24"
      },
      "outputs": [],
      "source": [
        "    # Generate a randomized sequence of IDs equal to the number of rows in the DataFrame\n",
        "id_values = np.random.choice(range(100000, 999999 + 1), size=len(data), replace=False)\n",
        "\n",
        "    # Assign the randomized IDs to a new 'ID' column in the DataFrame\n",
        "data['transaction_ID'] = id_values"
      ]
    },
    {
      "cell_type": "markdown",
      "metadata": {
        "id": "T6DHcsA_i2L2"
      },
      "source": [
        "Change date format into integer"
      ]
    },
    {
      "cell_type": "code",
      "execution_count": null,
      "metadata": {
        "id": "Xg6CeM02jAzx"
      },
      "outputs": [],
      "source": [
        "def convert_to_integer(date_str):\n",
        "    # Define the regex pattern to capture the month, day, and year\n",
        "    pattern = r'^[A-Za-z]{3} ([A-Za-z]{3}) (\\d{2}) (\\d{4})'\n",
        "\n",
        "    # Attempt to match the pattern in the date string\n",
        "    match = re.search(pattern, date_str)\n",
        "    if match:\n",
        "        # Extract the month, day, and year\n",
        "        month_str, day, year = match.groups()\n",
        "\n",
        "        # Map month abbreviations to numbers\n",
        "        month_mapping = {\n",
        "            'Jan': 1, 'Feb': 2, 'Mar': 3, 'Apr': 4,\n",
        "            'May': 5, 'Jun': 6, 'Jul': 7, 'Aug': 8,\n",
        "            'Sep': 9, 'Oct': 10, 'Nov': 11, 'Dec': 12\n",
        "        }\n",
        "\n",
        "        # Convert month string to number\n",
        "        month = month_mapping.get(month_str, 0)\n",
        "\n",
        "        # Calculate the difference and convert to seconds\n",
        "\n",
        "        delta = datetime(int(year), month, int(day)) - datetime(1970, 1, 1)\n",
        "        return delta.days\n",
        "\n",
        "    # Return None if the format doesn't match\n",
        "    return None\n",
        "\n",
        "def calculate_delta(date_str):\n",
        "\n",
        "    delta = datetime(int(date_str), 1, 1) - datetime(1970, 1, 1)\n",
        "    return delta.days\n",
        "\n",
        "data['saledate'] = data['saledate'].apply(convert_to_integer)\n",
        "data['year'] = data['year'].apply(calculate_delta)\n",
        "\n"
      ]
    },
    {
      "cell_type": "markdown",
      "metadata": {
        "id": "BsXd2IKQhJxV"
      },
      "source": [
        "Obtain statistical data\n",
        "\n",
        "\n"
      ]
    },
    {
      "cell_type": "code",
      "execution_count": null,
      "metadata": {
        "id": "HyZ1Qa7_hNnM"
      },
      "outputs": [],
      "source": [
        "## Count the number of rows and columns\n",
        "\n",
        "print(f\"The number of rows in the DataFrame is: {len(data)}\")\n",
        "print(f\"The number of columns in the DataFrame is: {len(data.columns)}\")\n",
        "\n",
        "\n",
        "## Get Mode\n",
        "\n",
        "for column in data.columns:\n",
        "    mode = data[column].value_counts().head(5)\n",
        "    unique_count = data[column].nunique()\n",
        "    print(\"Feature:\", column)\n",
        "    print(mode)\n",
        "    print(\"Number of unique values:\", unique_count)\n",
        "    print()\n",
        "\n",
        "\n",
        "\n",
        "\n",
        "## Get Statistical measures\n",
        "\n",
        "data.describe()"
      ]
    },
    {
      "cell_type": "markdown",
      "metadata": {
        "id": "70Il0h2r6FWY"
      },
      "source": [
        "Print the dataframe in a cvs\n"
      ]
    },
    {
      "cell_type": "code",
      "execution_count": null,
      "metadata": {
        "id": "mnu4TUQj6H2H"
      },
      "outputs": [],
      "source": [
        "data.to_csv(\"/content/drive/MyDrive/ICon_Car_Seller/Datasets/transaction_list.csv\", index=False)"
      ]
    },
    {
      "cell_type": "markdown",
      "metadata": {
        "id": "zvL1n-auVFOo"
      },
      "source": [
        "# Building the Knowledge Base"
      ]
    },
    {
      "cell_type": "markdown",
      "metadata": {
        "id": "SBH6IoEji3DZ"
      },
      "source": [
        "Import Dataset and libraries"
      ]
    },
    {
      "cell_type": "code",
      "execution_count": null,
      "metadata": {
        "id": "z1cjRiJ5BIwF"
      },
      "outputs": [],
      "source": [
        "import pandas as pd\n",
        "import numpy as np\n",
        "\n",
        "!pip install pyswip\n",
        "!apt-get install -y swi-prolog\n",
        "\n",
        "from pyswip import Prolog\n",
        "\n",
        "data = pd.read_csv(\"/content/drive/MyDrive/ICon_Car_Seller/Datasets/transaction_list.csv\", sep=',')\n"
      ]
    },
    {
      "cell_type": "markdown",
      "metadata": {
        "id": "qDdE2mCMMR-y"
      },
      "source": [
        "Ulterior data preprocessing to better accomodate for prolog language"
      ]
    },
    {
      "cell_type": "code",
      "execution_count": null,
      "metadata": {
        "id": "lPrscolbMUwN"
      },
      "outputs": [],
      "source": [
        "##Add most_recent column\n",
        "\n",
        "sorted_df = data[['transaction_ID', 'vin', 'saledate']].sort_values(by=['vin', 'saledate'], ascending=[True, False])\n",
        "sorted_df['most_recent'] = ~sorted_df.duplicated(subset=['vin'], keep='first')\n",
        "sorted_df['most_recent'] = sorted_df['most_recent'].map({True: 'true', False: 'false'})\n",
        "data = pd.merge(data, sorted_df[['transaction_ID', 'most_recent']], on='transaction_ID', how='inner')\n",
        "data.to_csv(\"/content/drive/MyDrive/ICon_Car_Seller/Datasets/transaction_list_with_most_recent.csv\", index=False)"
      ]
    },
    {
      "cell_type": "code",
      "execution_count": null,
      "metadata": {
        "id": "9gffOIJPvq5_"
      },
      "outputs": [],
      "source": [
        "## Add apices to values\n",
        "\n",
        "data['vin'] = data['vin'].apply(lambda x: f\"'{x}'\")\n",
        "data['model'] = data['model'].apply(lambda x: f\"'{x}'\")\n",
        "data['trim'] = data['trim'].apply(lambda x: f\"'{x}'\")\n",
        "data['make'] = data['make'].apply(lambda x: f\"'{x}'\")\n",
        "data['body'] = data['body'].apply(lambda x: f\"'{x}'\")\n",
        "data['transmission'] = data['transmission'].apply(lambda x: f\"'{x}'\")\n",
        "data['state'] = data['state'].apply(lambda x: f\"'{x}'\")\n",
        "data['color'] = data['color'].apply(lambda x: f\"'{x}'\")\n",
        "data['interior'] = data['interior'].apply(lambda x: f\"'{x}'\")\n",
        "data['seller'] = data['seller'].apply(lambda x: f\"'{x}'\")\n",
        "data['most_recent'] = data['most_recent'].apply(lambda x: f\"'{x}'\")\n",
        "data.to_csv(\"/content/drive/MyDrive/ICon_Car_Seller/Datasets/transaction_list_for_KB.csv\", index=False)"
      ]
    },
    {
      "cell_type": "markdown",
      "metadata": {
        "id": "LRKGkQWyctHI"
      },
      "source": [
        "Facts Description"
      ]
    },
    {
      "cell_type": "code",
      "execution_count": null,
      "metadata": {
        "id": "0kh29CkFFsgj"
      },
      "outputs": [],
      "source": [
        "import pandas as pd\n",
        "\n",
        "    ##car(Vin, Make, Model, Year, Body, Transmission)\n",
        "    ##car_sold(Auction, Vin)\n",
        "    ##auction(Auction, Seller, State, Price, Date, Condition, Odometer, Color, Interior, MMR, Recent)\n",
        "\n",
        "datasets = [data[['vin', 'make', 'model', 'year', 'body', 'transmission']].drop_duplicates(),\n",
        "             data[['transaction_ID', 'vin']].drop_duplicates(),\n",
        "            data[['transaction_ID', 'seller', 'state', 'sellingprice', 'saledate', 'condition', 'odometer', 'color', 'interior', 'mmr', 'most_recent']].drop_duplicates()]\n",
        "\n",
        "fact_names = ['car',\n",
        "              'car_sold',\n",
        "              'auction']\n",
        "\n",
        "with open('/content/drive/MyDrive/ICon_Car_Seller/Prolog/facts.pl', 'w') as file:\n",
        "\n",
        "    for df, fact_name in zip(datasets, fact_names):\n",
        "        for _, row in df.iterrows():\n",
        "\n",
        "            fact = f\"{fact_name}({', '.join(map(str, row.values))}).\\n\"\n",
        "\n",
        "\n",
        "            file.write(fact)\n",
        "\n"
      ]
    },
    {
      "cell_type": "markdown",
      "metadata": {
        "id": "EAt56GY3f9I_"
      },
      "source": [
        "Rules"
      ]
    },
    {
      "cell_type": "code",
      "execution_count": null,
      "metadata": {
        "id": "BuF9Y0SgvIwy"
      },
      "outputs": [],
      "source": [
        "with open('/content/drive/MyDrive/ICon_Car_Seller/Prolog/rules.pl', 'w') as file:\n",
        "\n",
        "    ##car(Vin, Make, Model, Year, Body, Transmission)\n",
        "    ##car_sold(Auction, Vin)\n",
        "    ##auction(Auction, Seller, State, Price, Date, Condition, Odometer, Color, Interior, MMR, Recent)\n",
        "\n",
        "    file.write('was_sold_repeatedly(Car):- car_sold(Auction, Car), car_sold(Auction2, Car), Auction \\\\== Auction2.\\n')\n",
        "    file.write('was_sold_within_one_year(Car):- car_sold(Auction, Car), car(Vin, _, _, ProdYear, _, _), auction(Auction, _, _, _, AuctYear, _ , _, _, _, _, _), Delta is AuctYear - ProdYear, Delta < 365.\\n')\n",
        "\n",
        "    file.write('most_recent_sale(Car, Auction) :- car_sold(Auction, Car), auction(Auction, _, _, _, _, _, _, _, _, _, Recent), Recent == true.\\n')\n",
        "    file.write('current_car_color(Car, Color):- most_recent_sale(Car, Auction), auction(Auction, _, _, _, _, _, _, Color, _, _, _).\\n')\n",
        "    file.write('current_car_interior(Car, Interior):- most_recent_sale(Car, Auction), auction(Auction, _, _, _, _, _, _, _, Interior, _, _).\\n')\n",
        "    file.write('current_car_mmr(Car, MMR):- most_recent_sale(Car, Auction), auction(Auction, _, _, _, _, _, _, _, _, MMR, _).\\n')\n",
        "    file.write('current_car_selling_price(Car, Price):- most_recent_sale(Car, Auction), auction(Auction, _, _, Price, _, _, _, _, _, _, _).\\n')\n",
        "    file.write('current_car_condition(Car, Condition):- most_recent_sale(Car, Auction), auction(Auction, _, _, _, _, Condition, _, _, _, _, _).\\n')\n",
        "    file.write('current_car_odometer(Car, Odometer):- most_recent_sale(Car, Auction), auction(Auction, _, _, _, _, _, Odometer, _, _, _, _).\\n')\n",
        "    file.write('last_seller(Car, Seller):- most_recent_sale(Car, Auction), auction(Auction, Seller, _, _, _, _, _, _, _, _, _).\\n')\n",
        "    file.write('does_color_match_interior(Car):- current_car_color(Car, Color), current_car_interior(Car, Interior), Color == Interior.\\n')\n",
        "    file.write('was_sold_above_mmr(Car):- current_car_selling_price(Car, SP), current_car_mmr(Car, MP), SP > MP.\\n')\n",
        "    file.write('was_sold_below_mmr(Car):- current_car_selling_price(Car, SP), current_car_mmr(Car, MP), SP < MP.\\n')\n",
        "    file.write('was_sold_at_mmr(Car):- current_car_selling_price(Car, SP), current_car_mmr(Car, MP), SP == MP.\\n')\n",
        "    file.write('is_same_color(Car1, Car2):- Car1 \\== Car2, current_car_color(Car1, Color), current_car_color(Car2, Color).\\n')\n",
        "    file.write('is_same_interior(Car1, Car2):- Car1 \\== Car2, current_car_interior(Car1, Interior), current_car_interior(Car2, Interior).\\n')\n",
        "    file.write('is_same_market_price(Car1, Car2):- Car1 \\== Car2, current_car_mmr(Car1, MMR), current_car_mmr(Car2, MMR).\\n')\n",
        "    file.write('is_same_selling_price(Car1, Car2):- Car1 \\== Car2, current_car_selling_price(Car1, Price), current_car_selling_price(Car2, Price).\\n')\n",
        "    file.write('is_same_condition(Car1, Car2):- Car1 \\== Car2, current_car_condition(Car1, Condition), current_car_condition(Car2, Condition).\\n')\n",
        "    file.write('is_same_odometer(Car1, Car2):- Car1 \\== Car2, current_car_odometer(Car1, Odometer), current_car_odometer(Car2, Odometer).\\n')\n",
        "\n",
        "    file.write('is_same_make(Car1, Car2) :- Car1 \\== Car2, car(Car1, Make, _, _, _, _), car(Car2, Make, _, _, _, _).\\n')\n",
        "\n",
        "    file.write('is_same_production_year(Car1, Car2):- Car1 \\== Car2, car(Car1, _, _, Year, _, _), car(Car2, _, _, Year, _, _).\\n')\n",
        "    file.write('is_same_body(Car1, Car2):- Car1 \\== Car2, car(Car1, _, _, _, Body, _), car(Car2, _, _, _, Body, _).\\n')\n",
        "    file.write('is_same_transmission(Car1, Car2):- Car1 \\== Car2, car(Car1, _, _, _, _, Transmission), car(Car2, _, _, _, _, Transmission).\\n')\n",
        "\n",
        "    file.write('high_volume_seller(Seller):- findall(Auction, auction(Auction, Seller, _, _, _, _, _, _, _, _, _), List), length(List, N), N > 200.\\n')\n",
        "    file.write('highly_traded_make(Make):- findall(Auction, (car_sold(Auction, Car), car(Car, Make, _, _, _, _)), List), length(List, N), N > 1000.')\n"
      ]
    },
    {
      "cell_type": "markdown",
      "metadata": {
        "id": "y8ycSnyoFihE"
      },
      "source": [
        "Example queries"
      ]
    },
    {
      "cell_type": "code",
      "execution_count": null,
      "metadata": {
        "id": "Fdh-DTxOTGx9"
      },
      "outputs": [],
      "source": [
        "with open('/content/drive/MyDrive/ICon_Car_Seller/Prolog/query_inputs.txt', 'w') as file:\n",
        "    file.write('wba6b2c57ed129731,')\n",
        "    file.write('wp0ca2988xu629622,')\n",
        "    file.write('2c4rdgeg8er151143,')\n",
        "    file.write('wbayp9c59ed169280,')\n",
        "    file.write('5npeb4acxdh744455')"
      ]
    },
    {
      "cell_type": "code",
      "execution_count": null,
      "metadata": {
        "id": "rgZETfM0gK-C"
      },
      "outputs": [],
      "source": [
        "from pyswip import Prolog\n",
        "prolog = Prolog()\n",
        "\n",
        "prolog.consult('/content/drive/MyDrive/ICon_Car_Seller/Prolog/rules.pl')\n",
        "prolog.consult('/content/drive/MyDrive/ICon_Car_Seller/Prolog/facts.pl')"
      ]
    },
    {
      "cell_type": "code",
      "execution_count": null,
      "metadata": {
        "id": "0LOz6psCFlLa"
      },
      "outputs": [],
      "source": [
        "input_file = open('/content/drive/MyDrive/ICon_Car_Seller/Prolog/query_inputs.txt', \"r\")\n",
        "\n",
        "cars_queried = input_file.read().split(\",\")\n",
        "\n",
        "input_file.close\n",
        "\n",
        "with open('/content/drive/MyDrive/ICon_Car_Seller/Prolog/query_outputs.txt', \"w\") as file:\n",
        "\n",
        "    for car in cars_queried:\n",
        "\n",
        "        file.write(f\"Car: {car}\\n\")\n",
        "        file.write(f\"\\n\")\n",
        "\n",
        "        ##Was sold repeatedly\n",
        "        if list(prolog.query(f\"was_sold_repeatedly('{car}')\")):\n",
        "            file.write(f\"{car} was sold repeatedly\\n\")\n",
        "        else:\n",
        "            file.write(f\"{car} was not sold repeatedly\\n\")\n",
        "\n",
        "        ##Was sold within one year\n",
        "        file.write(f\"\\n\")\n",
        "        if list(prolog.query(f\"was_sold_within_one_year('{car}')\")):\n",
        "            file.write(f\"{car} was sold within one year\\n\")\n",
        "        else:\n",
        "            file.write(f\"{car} was not sold within one year\\n\")\n",
        "\n",
        "        ##Was sold above MMR\n",
        "        file.write(f\"\\n\")\n",
        "        if list(prolog.query(f\"was_sold_above_mmr('{car}')\")):\n",
        "            file.write(f\"{car} was sold above its MMR\\n\")\n",
        "        else:\n",
        "            if list(prolog.query(f\"was_sold_below_mmr('{car}')\")):\n",
        "                file.write(f\"{car} was sold below its MMR\\n\")\n",
        "            else:\n",
        "                if list(prolog.query(f\"was_sold_at_mmr('{car}')\")):\n",
        "                    file.write(f\"{car} was sold at its MMR\\n\")\n",
        "                else:\n",
        "                    file.write(f\"Couldn't find selling info about {car}\\n\")\n",
        "\n",
        "\n",
        "        ##Most recent sale\n",
        "        file.write(f\"\\n\")\n",
        "        if list(prolog.query(f\"most_recent_sale('{car}', Auction)\")):\n",
        "            recent_sale_result = list(prolog.query(f\"most_recent_sale('{car}', Auction)\"))\n",
        "            recent_sale = str(recent_sale_result[0]['Auction'])\n",
        "            file.write(f\"{car}\\'s most recent sale code is:\\n\")\n",
        "            file.write(recent_sale)\n",
        "            file.write(f\"\\n\")\n",
        "        else:\n",
        "            file.write(f\"Couldn't find {car}\\'s most recent sale code.\\n\")\n",
        "\n",
        "        if list(prolog.query(f\"last_seller('{car}', Seller)\")):\n",
        "            seller_result = list(prolog.query(f\"last_seller('{car}', Seller)\"))\n",
        "            seller = str(seller_result[0]['Seller'])\n",
        "            file.write(f\"{car}\\'s most recent seller is:\\n\")\n",
        "            file.write(seller)\n",
        "            file.write(f\"\\n\")\n",
        "            if list(prolog.query(f\"high_volume_seller('{seller}')\")):\n",
        "               file.write(f\"{seller} is a high volume seller.\\n\")\n",
        "            else:\n",
        "               file.write(f\"{seller} is not a high volume seller.\\n\")\n",
        "        else:\n",
        "             file.write(f\"Couldn't find {car}\\'s most recent seller.\\n\")\n",
        "\n",
        "\n",
        "\n",
        "\n",
        "        ##its make is highly traded\n",
        "        file.write(f\"\\n\")\n",
        "        if list(prolog.query(f\"car('{car}', Make, _, _, _, _)\")):\n",
        "            result = list(prolog.query(f\"car('{car}', Make, _, _, _, _)\"))\n",
        "            make = str(result[0]['Make'])\n",
        "            file.write(f\"{car}\\'s make is:\\n\")\n",
        "            file.write(make)\n",
        "            file.write(f\"\\n\")\n",
        "            if list(prolog.query(f\"highly_traded_make('{make}')\")):\n",
        "              file.write(f\"{make} is a highly traded make.\\n\")\n",
        "            else:\n",
        "              file.write(f\"{make} is not a highly traded make.\\n\")\n",
        "        else:\n",
        "            file.write(f\"Couldn't find {car}\\'s make.\\n\")\n",
        "\n",
        "        ##Current car color\n",
        "        file.write(f\"\\n\")\n",
        "        if list(prolog.query(f\"current_car_color('{car}', Color)\")):\n",
        "            result = list(prolog.query(f\"current_car_color('{car}', Color)\"))\n",
        "            color = str(result[0]['Color'])\n",
        "            file.write(f\"{car}\\'s current color is:\\n\")\n",
        "            file.write(color)\n",
        "            file.write(f\"\\n\")\n",
        "        else:\n",
        "            file.write(f\"Couldn't find {car}\\'s most recent color.\\n\")\n",
        "\n",
        "        ##Current car interior\n",
        "        file.write(f\"\\n\")\n",
        "        if list(prolog.query(f\"current_car_interior('{car}', Color)\")):\n",
        "            result = list(prolog.query(f\"current_car_interior('{car}', Color)\"))\n",
        "            color = str(result[0]['Color'])\n",
        "            file.write(f\"{car}\\'s current interior color is:\\n\")\n",
        "            file.write(color)\n",
        "            file.write(f\"\\n\")\n",
        "        else:\n",
        "            file.write(f\"Couldn't find {car}\\'s most recent interior color .\\n\")\n",
        "\n",
        "\n",
        "        ##Does color match interior\n",
        "        file.write(f\"\\n\")\n",
        "        if list(prolog.query(f\"does_color_match_interior('{car}')\")):\n",
        "            file.write(f\"{car}\\'s color matches its interior color.\\n\")\n",
        "        else:\n",
        "            file.write(f\"{car}\\'s color doesn't match its interior color.\\n\")\n",
        "\n",
        "\n",
        "        ##Current car MMR\n",
        "        file.write(f\"\\n\")\n",
        "        if list(prolog.query(f\"current_car_mmr('{car}', MMR)\")):\n",
        "            result = list(prolog.query(f\"current_car_mmr('{car}', MMR)\"))\n",
        "            mmr = str(result[0]['MMR'])\n",
        "            file.write(f\"{car}\\'s current MMR is:\\n\")\n",
        "            file.write(mmr)\n",
        "        else:\n",
        "            file.write(f\"Couldn't find {car}\\'s current MMR.\\n\")\n",
        "\n",
        "\n",
        "        ##Current car selling price\n",
        "        file.write(f\"\\n\")\n",
        "        if list(prolog.query(f\"current_car_selling_price('{car}', Price)\")):\n",
        "            result = list(prolog.query(f\"current_car_selling_price('{car}', Price)\"))\n",
        "            price = str(result[0]['Price'])\n",
        "            file.write(f\"{car}\\'s current selling price is:\\n\")\n",
        "            file.write(price)\n",
        "            file.write(f\"\\n\")\n",
        "        else:\n",
        "            file.write(f\"Couldn't find {car}\\'s current selling price.\\n\")\n",
        "\n",
        "\n",
        "        ##Current car condition\n",
        "        file.write(f\"\\n\")\n",
        "        if list(prolog.query(f\"current_car_condition('{car}', Condition)\")):\n",
        "            result = list(prolog.query(f\"current_car_condition('{car}', Condition)\"))\n",
        "            condition = str(result[0]['Condition'])\n",
        "            file.write(f\"{car}\\'s current condition is:\\n\")\n",
        "            file.write(condition)\n",
        "            file.write(f\"\\n\")\n",
        "        else:\n",
        "            file.write(f\"Couldn't find {car}\\'s current condition.\\n\")\n",
        "\n",
        "        ##Current car odometer\n",
        "        file.write(f\"\\n\")\n",
        "        if list(prolog.query(f\"current_car_odometer('{car}', Odometer)\")):\n",
        "            result = list(prolog.query(f\"current_car_odometer('{car}', Odometer)\"))\n",
        "            odometer = str(result[0]['Odometer'])\n",
        "            file.write(f\"{car}\\'s current odometer is:\\n\")\n",
        "            file.write(odometer)\n",
        "            file.write(f\"\\n\")\n",
        "        else:\n",
        "            file.write(f\"Couldn't find {car}\\'s current odometer.\\n\")\n",
        "\n",
        "        ##Comparisons\n",
        "        file.write(f\"\\n\")\n",
        "        for new_car in cars_queried:\n",
        "            if car != new_car:\n",
        "\n",
        "                ##same make\n",
        "                file.write(f\"\\n\")\n",
        "                if list(prolog.query(f\"is_same_make('{car}', '{new_car}')\")):\n",
        "                    file.write(f\"{car} is the same make as {new_car}\\n\")\n",
        "                else:\n",
        "                    file.write(f\"{car} is not the same make as {new_car}\\n\")\n",
        "\n",
        "                ##same color\n",
        "                file.write(f\"\\n\")\n",
        "                if list(prolog.query(f\"is_same_color('{car}', '{new_car}')\")):\n",
        "                    file.write(f\"{car} is the same color as {new_car}\\n\")\n",
        "                else:\n",
        "                    file.write(f\"{car} is not the same color as {new_car}\\n\")\n",
        "\n",
        "                ##same interior\n",
        "                file.write(f\"\\n\")\n",
        "                if list(prolog.query(f\"is_same_interior('{car}', '{new_car}')\")):\n",
        "                    file.write(f\"{car} is the same interior color as {new_car}\\n\")\n",
        "                else:\n",
        "                    file.write(f\"{car} is not the same interior color as {new_car}\\n\")\n",
        "\n",
        "                ##same market price\n",
        "                file.write(f\"\\n\")\n",
        "                if list(prolog.query(f\"is_same_market_price('{car}', '{new_car}')\")):\n",
        "                    file.write(f\"{car} is the same market price as {new_car}\\n\")\n",
        "                else:\n",
        "                    file.write(f\"{car} is not the same market price as {new_car}\\n\")\n",
        "\n",
        "\n",
        "                ##same selling price\n",
        "                file.write(f\"\\n\")\n",
        "                if list(prolog.query(f\"is_same_selling_price('{car}', '{new_car}')\")):\n",
        "                    file.write(f\"{car} is the same selling price as {new_car}\\n\")\n",
        "                else:\n",
        "                    file.write(f\"{car} is not the same selling price as {new_car}\\n\")\n",
        "\n",
        "\n",
        "                ##same condition\n",
        "                file.write(f\"\\n\")\n",
        "                if list(prolog.query(f\"is_same_condition('{car}', '{new_car}')\")):\n",
        "                    file.write(f\"{car} is the same condition as {new_car}\\n\")\n",
        "                else:\n",
        "                    file.write(f\"{car} is not the same condition as {new_car}\\n\")\n",
        "\n",
        "\n",
        "                ##same odometer\n",
        "                file.write(f\"\\n\")\n",
        "                if list(prolog.query(f\"is_same_odometer('{car}', '{new_car}')\")):\n",
        "                    file.write(f\"{car} is the same odometer as {new_car}\\n\")\n",
        "                else:\n",
        "                    file.write(f\"{car} is not the same odometer as {new_car}\\n\")\n",
        "\n",
        "\n",
        "                ##same production year\n",
        "                file.write(f\"\\n\")\n",
        "                if list(prolog.query(f\"is_same_production_year('{car}', '{new_car}')\")):\n",
        "                    file.write(f\"{car} is the same production year as {new_car}\\n\")\n",
        "                else:\n",
        "                    file.write(f\"{car} is not the same production year as {new_car}\\n\")\n",
        "\n",
        "\n",
        "                ##same body\n",
        "                file.write(f\"\\n\")\n",
        "                if list(prolog.query(f\"is_same_body('{car}', '{new_car}')\")):\n",
        "                    file.write(f\"{car} is the same body as {new_car}\\n\")\n",
        "                else:\n",
        "                    file.write(f\"{car} is not the same body as {new_car}\\n\")\n",
        "\n",
        "\n",
        "                ##same transmission\n",
        "                file.write(f\"\\n\")\n",
        "                if list(prolog.query(f\"is_same_transmission('{car}', '{new_car}')\")):\n",
        "                    file.write(f\"{car} is the same transmission as {new_car}\\n\")\n",
        "                else:\n",
        "                    file.write(f\"{car} is not the same transmission as {new_car}\\n\")\n",
        "                file.write(f\"\\n\")\n",
        "\n",
        "\n",
        "        file.write(f\"\\n\")\n",
        "        file.write(f\"\\n\")\n",
        "        file.write(f\"\\n\")\n",
        "        file.write(f\"\\n\")\n"
      ]
    },
    {
      "cell_type": "markdown",
      "metadata": {
        "id": "Iy7abdTmvCSi"
      },
      "source": [
        "# Machine Learning"
      ]
    },
    {
      "cell_type": "markdown",
      "metadata": {
        "id": "2VNF5Ffc0LIW"
      },
      "source": [
        "Creating the \"car\" dataset with the data available for each car from the last registered sale"
      ]
    },
    {
      "cell_type": "code",
      "execution_count": null,
      "metadata": {
        "id": "vc64939U0Xkn"
      },
      "outputs": [],
      "source": [
        "import pandas as pd\n",
        "\n",
        "\n",
        "data = pd.read_csv(\"/content/drive/MyDrive/ICon_Car_Seller/Datasets/transaction_list_with_most_recent.csv\", sep=',')\n",
        "\n",
        "data = data[data['most_recent'] == True]\n",
        "\n",
        "data = data[['make', 'model', 'year', 'trim' , 'body', 'transmission', 'seller', 'sellingprice', 'condition', 'odometer', 'color', 'interior', 'mmr']]\n",
        "\n",
        "data.to_csv(\"/content/drive/MyDrive/ICon_Car_Seller/Datasets/car_dataset.csv\", index=False)"
      ]
    },
    {
      "cell_type": "markdown",
      "metadata": {
        "id": "7mFzfI1d58_V"
      },
      "source": [
        "#### K-Means"
      ]
    },
    {
      "cell_type": "markdown",
      "metadata": {
        "id": "mvJtsO9on0x5"
      },
      "source": [
        "Elbow Method Application"
      ]
    },
    {
      "cell_type": "code",
      "execution_count": null,
      "metadata": {
        "id": "gy-ETl7xB6mj"
      },
      "outputs": [],
      "source": [
        "pip install kmodes"
      ]
    },
    {
      "cell_type": "code",
      "execution_count": null,
      "metadata": {
        "id": "oDKp8DNJ6HLk"
      },
      "outputs": [],
      "source": [
        "import numpy as np\n",
        "import matplotlib.pyplot as plt\n",
        "from kmodes.kmodes import KModes\n",
        "\n",
        "\n",
        "def calculate_elbow (seed):\n",
        "\n",
        "    # Range of k values to test\n",
        "    k_values = range(1, 8)\n",
        "\n",
        "    # List to hold the cost values for each k\n",
        "    cost_values = []\n",
        "\n",
        "    # Calculate K-Modes for each k and store the cost\n",
        "    for k in k_values:\n",
        "        kmodes = KModes(n_clusters=k, init='Cao', n_init=5, random_state=0)\n",
        "        kmodes.fit(data)\n",
        "        cost_values.append(kmodes.cost_)\n",
        "\n",
        "    # Calculate and print the slope for each step\n",
        "    print(\"Number of Clusters (k) | Cost | Slope | Absolute Reduction | Percentage Reduction\")\n",
        "    for i in range(1, len(cost_values)):\n",
        "        slope = cost_values[i] - cost_values[i - 1]\n",
        "        absolute_reduction = abs(slope)\n",
        "        percentage_reduction = (absolute_reduction / cost_values[i - 1]) * 100\n",
        "\n",
        "        print(f\"{k_values[i]:>18} | {cost_values[i]:>5} | {slope:>6.2f} |\"\n",
        "              f\" {absolute_reduction:>17.2f} | {percentage_reduction:>19.2f}%\")\n",
        "    # Plot the results\n",
        "    plt.figure(figsize=(8, 5))\n",
        "    plt.plot(k_values, cost_values, 'bo-')\n",
        "    plt.xlabel('Number of Clusters (k)')\n",
        "    plt.ylabel('Cost (Total Dissimilarity)')\n",
        "    plt.title('Elbow Method for Optimal k with K-Modes')\n",
        "    plt.xticks(k_values)\n",
        "    plt.show()\n",
        "\n",
        "\n",
        "calculate_elbow (data)\n",
        "plt.savefig(\"/content/drive/MyDrive/ICon_Car_Seller/K-Means/elbow_method_k_modes.png\", format=\"png\", dpi=300)  # Save the plot\n",
        "\n"
      ]
    }
  ],
  "metadata": {
    "colab": {
      "provenance": [],
      "collapsed_sections": [
        "JAZKT6BnzvrU",
        "zvL1n-auVFOo"
      ],
      "mount_file_id": "19CBayE9nWEWgbGOaAJ9slbu54X69B82u",
      "authorship_tag": "ABX9TyO6aPmExV7FuP+Y3ACrdz3z",
      "include_colab_link": true
    },
    "kernelspec": {
      "display_name": "Python 3",
      "name": "python3"
    },
    "language_info": {
      "name": "python"
    }
  },
  "nbformat": 4,
  "nbformat_minor": 0
}